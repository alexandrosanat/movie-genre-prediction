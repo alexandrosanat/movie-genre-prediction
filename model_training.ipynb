{
 "cells": [
  {
   "cell_type": "markdown",
   "id": "dc113a93",
   "metadata": {},
   "source": [
    "# Movie Genre Prediction"
   ]
  },
  {
   "cell_type": "code",
   "execution_count": 40,
   "id": "01498f22",
   "metadata": {},
   "outputs": [],
   "source": [
    "import zipfile\n",
    "import pandas as pd\n",
    "import numpy as np\n",
    "import json\n",
    "import nltk\n",
    "import matplotlib.pyplot as plt\n",
    "import seaborn as sns\n",
    "from sklearn.preprocessing import MultiLabelBinarizer\n",
    "from sklearn.model_selection import train_test_split\n",
    "from sklearn.feature_extraction.text import TfidfVectorizer\n",
    "from sklearn.multiclass import OneVsRestClassifier\n",
    "from sklearn.linear_model import LogisticRegression\n",
    "from sklearn.metrics import f1_score\n",
    "\n",
    "\n",
    "import text_processing as tp"
   ]
  },
  {
   "cell_type": "markdown",
   "id": "654194b5",
   "metadata": {},
   "source": [
    "### Purpose of script\n",
    "This script uses the \"The Movies Dataset\" dataset to train a model that predicts a movie's genre given its title and description.\n",
    "https://www.kaggle.com/rounakbanik/the-movies-dataset?select=movies_metadata.csv <br>\n",
    "\n",
    "To retrain the model and reproduce the analysis, download and save the dataset in the data folder."
   ]
  },
  {
   "cell_type": "markdown",
   "id": "651de55d",
   "metadata": {},
   "source": [
    "### Extract data"
   ]
  },
  {
   "cell_type": "markdown",
   "id": "27934ed8",
   "metadata": {},
   "source": [
    "If you haven't already unzipped the downloaded file run the cell below to unzip."
   ]
  },
  {
   "cell_type": "code",
   "execution_count": 4,
   "id": "cd834ba2",
   "metadata": {},
   "outputs": [],
   "source": [
    "MOVIE_DATA_DIR = './data/archive.zip'\n",
    "TARGET_DIR = './data/'\n",
    "\n",
    "# Check if zip file exists and extract if it does\n",
    "try:\n",
    "    with open(MOVIE_DATA_DIR) as f:\n",
    "        with zipfile.ZipFile(MOVIE_DATA_DIR, 'r') as zip_ref:\n",
    "            zip_ref.extractall(TARGET_DIR)\n",
    "except IOError:\n",
    "    print(\"File not accessible\")"
   ]
  },
  {
   "cell_type": "markdown",
   "id": "1821b1e2",
   "metadata": {},
   "source": [
    "### Load Data"
   ]
  },
  {
   "cell_type": "code",
   "execution_count": 5,
   "id": "c921cb7b",
   "metadata": {},
   "outputs": [],
   "source": [
    "MOVIE_DATA_DIR = './data/movies_metadata.csv'\n",
    "\n",
    "# Load the data into a DataFrame\n",
    "raw_data = pd.read_csv(MOVIE_DATA_DIR, sep=',', error_bad_lines=False, index_col=False, dtype='unicode')"
   ]
  },
  {
   "cell_type": "markdown",
   "id": "1fc5c953",
   "metadata": {},
   "source": [
    "We will only keep the Genre, Title and Plot for each film"
   ]
  },
  {
   "cell_type": "code",
   "execution_count": 6,
   "id": "6c39f229",
   "metadata": {},
   "outputs": [
    {
     "name": "stdout",
     "output_type": "stream",
     "text": [
      "There are 45466 records in the dataset.\n"
     ]
    },
    {
     "data": {
      "text/html": [
       "<div>\n",
       "<style scoped>\n",
       "    .dataframe tbody tr th:only-of-type {\n",
       "        vertical-align: middle;\n",
       "    }\n",
       "\n",
       "    .dataframe tbody tr th {\n",
       "        vertical-align: top;\n",
       "    }\n",
       "\n",
       "    .dataframe thead th {\n",
       "        text-align: right;\n",
       "    }\n",
       "</style>\n",
       "<table border=\"1\" class=\"dataframe\">\n",
       "  <thead>\n",
       "    <tr style=\"text-align: right;\">\n",
       "      <th></th>\n",
       "      <th>title</th>\n",
       "      <th>description</th>\n",
       "      <th>genres</th>\n",
       "    </tr>\n",
       "  </thead>\n",
       "  <tbody>\n",
       "    <tr>\n",
       "      <th>0</th>\n",
       "      <td>Toy Story</td>\n",
       "      <td>Led by Woody, Andy's toys live happily in his ...</td>\n",
       "      <td>[{'id': 16, 'name': 'Animation'}, {'id': 35, '...</td>\n",
       "    </tr>\n",
       "    <tr>\n",
       "      <th>1</th>\n",
       "      <td>Jumanji</td>\n",
       "      <td>When siblings Judy and Peter discover an encha...</td>\n",
       "      <td>[{'id': 12, 'name': 'Adventure'}, {'id': 14, '...</td>\n",
       "    </tr>\n",
       "    <tr>\n",
       "      <th>2</th>\n",
       "      <td>Grumpier Old Men</td>\n",
       "      <td>A family wedding reignites the ancient feud be...</td>\n",
       "      <td>[{'id': 10749, 'name': 'Romance'}, {'id': 35, ...</td>\n",
       "    </tr>\n",
       "    <tr>\n",
       "      <th>3</th>\n",
       "      <td>Waiting to Exhale</td>\n",
       "      <td>Cheated on, mistreated and stepped on, the wom...</td>\n",
       "      <td>[{'id': 35, 'name': 'Comedy'}, {'id': 18, 'nam...</td>\n",
       "    </tr>\n",
       "    <tr>\n",
       "      <th>4</th>\n",
       "      <td>Father of the Bride Part II</td>\n",
       "      <td>Just when George Banks has recovered from his ...</td>\n",
       "      <td>[{'id': 35, 'name': 'Comedy'}]</td>\n",
       "    </tr>\n",
       "  </tbody>\n",
       "</table>\n",
       "</div>"
      ],
      "text/plain": [
       "                         title  \\\n",
       "0                    Toy Story   \n",
       "1                      Jumanji   \n",
       "2             Grumpier Old Men   \n",
       "3            Waiting to Exhale   \n",
       "4  Father of the Bride Part II   \n",
       "\n",
       "                                         description  \\\n",
       "0  Led by Woody, Andy's toys live happily in his ...   \n",
       "1  When siblings Judy and Peter discover an encha...   \n",
       "2  A family wedding reignites the ancient feud be...   \n",
       "3  Cheated on, mistreated and stepped on, the wom...   \n",
       "4  Just when George Banks has recovered from his ...   \n",
       "\n",
       "                                              genres  \n",
       "0  [{'id': 16, 'name': 'Animation'}, {'id': 35, '...  \n",
       "1  [{'id': 12, 'name': 'Adventure'}, {'id': 14, '...  \n",
       "2  [{'id': 10749, 'name': 'Romance'}, {'id': 35, ...  \n",
       "3  [{'id': 35, 'name': 'Comedy'}, {'id': 18, 'nam...  \n",
       "4                     [{'id': 35, 'name': 'Comedy'}]  "
      ]
     },
     "execution_count": 6,
     "metadata": {},
     "output_type": "execute_result"
    }
   ],
   "source": [
    "column_names = {'original_title': 'title',\n",
    "                'overview': 'description',\n",
    "                'genres': 'genres'}\n",
    "movie_data = raw_data[column_names.keys()].copy()\n",
    "# Rename columns\n",
    "movie_data.rename(columns=column_names, inplace=True)\n",
    "raw_records = len(movie_data)\n",
    "print(\"There are {} records in the dataset.\".format(raw_records))\n",
    "# Display first 5 rows of dataset\n",
    "movie_data.head()"
   ]
  },
  {
   "cell_type": "markdown",
   "id": "ea66f218",
   "metadata": {},
   "source": [
    "### Summarise dataset information"
   ]
  },
  {
   "cell_type": "code",
   "execution_count": 7,
   "id": "114396b0",
   "metadata": {},
   "outputs": [
    {
     "name": "stdout",
     "output_type": "stream",
     "text": [
      "There are 43373 unique movies in the dataset.\n"
     ]
    }
   ],
   "source": [
    "unique_movies = len(movie_data['title'].unique())\n",
    "print(\"There are {} unique movies in the dataset.\".format(unique_movies))"
   ]
  },
  {
   "cell_type": "markdown",
   "id": "aeec8ceb",
   "metadata": {},
   "source": [
    "There are titles that contain non-english characters that need to be removed:"
   ]
  },
  {
   "cell_type": "code",
   "execution_count": 8,
   "id": "4eef5ea3",
   "metadata": {},
   "outputs": [
    {
     "name": "stdout",
     "output_type": "stream",
     "text": [
      "6177 movies were removed from the dataset.\n"
     ]
    }
   ],
   "source": [
    "movie_data = movie_data[movie_data['title'].map(lambda x: x.isascii())].reset_index(drop=True)\n",
    "english_title_movies = len(movie_data)\n",
    "print(\"{} movies were removed from the dataset.\".format(raw_records-english_title_movies))"
   ]
  },
  {
   "cell_type": "markdown",
   "id": "8f0756cd",
   "metadata": {},
   "source": [
    "We will also remove any movies without a description or title:"
   ]
  },
  {
   "cell_type": "code",
   "execution_count": 9,
   "id": "40ad8699",
   "metadata": {},
   "outputs": [
    {
     "name": "stdout",
     "output_type": "stream",
     "text": [
      "0 movies were removed from the dataset.\n"
     ]
    }
   ],
   "source": [
    "# Exclude any movies without title or description\n",
    "movie_data = movie_data.loc[~movie_data['title'].isin([''])]\n",
    "movie_data = movie_data.loc[~movie_data['title'].isin([''])]\n",
    "complete_movies = len(movie_data)\n",
    "print(\"{} movies were removed from the dataset.\".format(english_title_movies-complete_movies))"
   ]
  },
  {
   "cell_type": "markdown",
   "id": "64df50ee",
   "metadata": {},
   "source": [
    "### Data pre-processing"
   ]
  },
  {
   "cell_type": "markdown",
   "id": "2b54cbe4",
   "metadata": {},
   "source": [
    "Make sure that all datatypes are consistent:"
   ]
  },
  {
   "cell_type": "code",
   "execution_count": 10,
   "id": "c22ead41",
   "metadata": {},
   "outputs": [],
   "source": [
    "# Change Title and Description types to strings\n",
    "movie_data['title'] = movie_data['title'].astype(str)\n",
    "movie_data['description'] = movie_data['description'].astype(str)"
   ]
  },
  {
   "cell_type": "markdown",
   "id": "9cf9c2bb",
   "metadata": {},
   "source": [
    "We now need to convert the genres column to a list of genres"
   ]
  },
  {
   "cell_type": "code",
   "execution_count": 11,
   "id": "f8eecf20",
   "metadata": {},
   "outputs": [],
   "source": [
    "def extract_genres(row):\n",
    "    genres_list = row.replace(\"'\", '\"')  # Replace single quotes to convert to json\n",
    "    genres_json = json.loads(genres_list)  # Convert string to json\n",
    "    genres = [gen_dict['name'] for gen_dict in genres_json]  # Extract all genres in dict\n",
    "    return genres\n",
    "\n",
    "# Reassign the genres column to a list of the movie genres\n",
    "movie_data['genres'] = movie_data['genres'].apply(lambda x: extract_genres(x))"
   ]
  },
  {
   "cell_type": "markdown",
   "id": "dc0a84ff",
   "metadata": {},
   "source": [
    "Let's exclude any movies that do not have any genres assigned to them."
   ]
  },
  {
   "cell_type": "code",
   "execution_count": 12,
   "id": "c8f60347",
   "metadata": {},
   "outputs": [
    {
     "name": "stdout",
     "output_type": "stream",
     "text": [
      "2062 movies were removed from the dataset.\n"
     ]
    }
   ],
   "source": [
    "movie_data = movie_data[movie_data['genres'].map(lambda x: len(x)) > 0]\n",
    "records_with_genres = len(movie_data)\n",
    "print(\"{} movies were removed from the dataset.\".format(complete_movies-records_with_genres))"
   ]
  },
  {
   "cell_type": "markdown",
   "id": "824018d4",
   "metadata": {},
   "source": [
    "There are movies with multiple same genres that need to be removed:"
   ]
  },
  {
   "cell_type": "code",
   "execution_count": 13,
   "id": "871fb959",
   "metadata": {},
   "outputs": [],
   "source": [
    "# Get a unique list of genres for each movie\n",
    "movie_data['genres'] = movie_data['genres'].apply(lambda x: list(set(x)))"
   ]
  },
  {
   "cell_type": "markdown",
   "id": "9bbcd078",
   "metadata": {},
   "source": [
    "Now that we have the complete dataset let's explore how many genres are available. We will use NLTK which is a natural language processing tool:"
   ]
  },
  {
   "cell_type": "code",
   "execution_count": 14,
   "id": "95e18439",
   "metadata": {
    "tags": []
   },
   "outputs": [
    {
     "name": "stdout",
     "output_type": "stream",
     "text": [
      "There are 27 unique genres in the dataset.\n"
     ]
    }
   ],
   "source": [
    "# Create a list of all the available genres\n",
    "all_genres = [item for sublist in movie_data['genres'].values for item in sublist]\n",
    "unique_genres = len(set(all_genres))\n",
    "print(\"There are {} unique genres in the dataset.\".format(unique_genres))\n",
    "\n",
    "# Get the term frequencies\n",
    "all_genres = nltk.FreqDist(all_genres)\n",
    "# Create a DataFrame for plotting\n",
    "all_genres_df = pd.DataFrame({'Genre': list(all_genres.keys()), \n",
    "                              'Count': list(all_genres.values())})\n",
    "# Before we plot let's normalise the results by the total number of movies\n",
    "all_genres_df['Normalised Count'] = all_genres_df['Count'] / all_genres_df['Count'].sum()"
   ]
  },
  {
   "cell_type": "markdown",
   "id": "a55bf1cd",
   "metadata": {},
   "source": [
    "Let's visualise the results:"
   ]
  },
  {
   "cell_type": "code",
   "execution_count": 15,
   "id": "37cf425b",
   "metadata": {},
   "outputs": [
    {
     "data": {
      "image/png": "[encoded data removed]",
      "text/plain": [
       "<Figure size 576x504 with 1 Axes>"
      ]
     },
     "metadata": {
      "needs_background": "light"
     },
     "output_type": "display_data"
    }
   ],
   "source": [
    "g = all_genres_df.nlargest(columns=\"Count\", n=50) \n",
    "plt.figure(figsize=(8, 7)) \n",
    "ax = sns.barplot(data=g, x= \"Normalised Count\", y = \"Genre\") \n",
    "ax.set(ylabel = 'Normalised Count') \n",
    "plt.show()"
   ]
  },
  {
   "cell_type": "markdown",
   "id": "6ca9d621",
   "metadata": {},
   "source": [
    "We see that the last 7 genres do not fall under any specific category so we will replace them with \"Other\"."
   ]
  },
  {
   "cell_type": "code",
   "execution_count": 16,
   "id": "083f6df9",
   "metadata": {},
   "outputs": [],
   "source": [
    "unknown_genres = ['Carousel Productions',\n",
    "                  'Vision View Entertainment',\n",
    "                  'Telescene Film Group Productions',\n",
    "                  'Odyssey Media',\n",
    "                  'Pulser Productions',\n",
    "                  'Rogue State',\n",
    "                  'The Cartel']"
   ]
  },
  {
   "cell_type": "markdown",
   "id": "b7347dda",
   "metadata": {},
   "source": [
    "Let's loop though all our entries and remove these genres since their count is too small."
   ]
  },
  {
   "cell_type": "code",
   "execution_count": 17,
   "id": "b2ee9c2e",
   "metadata": {},
   "outputs": [],
   "source": [
    "def remove_genres(row):\n",
    "    '''\n",
    "    Loops through all genres for each film and replaces with \"Other\"\n",
    "    if genre is in the unknown_genres list.\n",
    "    '''\n",
    "    new_items = [x for x in row if x not in unknown_genres]\n",
    "    \n",
    "    return new_items\n",
    "\n",
    "# Remove unknown genres from dataset\n",
    "movie_data['genres'] = movie_data['genres'].apply(lambda x: remove_genres(x))  \n",
    "# Reset df index\n",
    "movie_data.reset_index(drop=True, inplace=True)"
   ]
  },
  {
   "cell_type": "code",
   "execution_count": 18,
   "id": "4fea6bcf",
   "metadata": {},
   "outputs": [
    {
     "name": "stdout",
     "output_type": "stream",
     "text": [
      "There are 20 unique genres in the dataset.\n"
     ]
    }
   ],
   "source": [
    "# Create a list of all the available genres\n",
    "all_genres = [item for sublist in movie_data['genres'].values for item in sublist]\n",
    "unique_genres = len(set(all_genres))\n",
    "print(\"There are {} unique genres in the dataset.\".format(unique_genres))\n",
    "\n",
    "# Get the term frequencies\n",
    "all_genres = nltk.FreqDist(all_genres)\n",
    "# Create a DataFrame for plotting\n",
    "all_genres_df = pd.DataFrame({'Genre': list(all_genres.keys()), \n",
    "                              'Count': list(all_genres.values())})\n",
    "# Before we plot let's normalise the results by the total number of movies\n",
    "all_genres_df['Normalised Count'] = all_genres_df['Count'] / all_genres_df['Count'].sum()"
   ]
  },
  {
   "cell_type": "code",
   "execution_count": 19,
   "id": "44c9d69d",
   "metadata": {},
   "outputs": [
    {
     "data": {
      "image/png": "[encoded data removed]",
      "text/plain": [
       "<Figure size 576x504 with 1 Axes>"
      ]
     },
     "metadata": {
      "needs_background": "light"
     },
     "output_type": "display_data"
    }
   ],
   "source": [
    "g = all_genres_df.nlargest(columns=\"Count\", n=50) \n",
    "plt.figure(figsize=(8, 7)) \n",
    "ax = sns.barplot(data=g, x= \"Normalised Count\", y = \"Genre\") \n",
    "ax.set(ylabel = 'Normalised Count') \n",
    "plt.show()"
   ]
  },
  {
   "cell_type": "markdown",
   "id": "00e468b8",
   "metadata": {},
   "source": [
    "The distribution of genres is skewed so when splitting the data for training we will try to stratify the dataset and potentially oversample the minority classes."
   ]
  },
  {
   "cell_type": "markdown",
   "id": "00b69713",
   "metadata": {},
   "source": [
    "#### Text pre-processing\n",
    "\n",
    "Before we train any models we will need to pre-process our text. <br>\n",
    "We will follow these steps:\n",
    "- Join the movie title to the movie description\n",
    "- Remove whitespace, slashes, non-alphabetic charactes and convert text to lowecase\n",
    "- Lemmatise the words\n",
    "- Remove any stopwords"
   ]
  },
  {
   "cell_type": "code",
   "execution_count": 20,
   "id": "66b011f0-f711-4a85-bd0d-efbf3f36e690",
   "metadata": {},
   "outputs": [],
   "source": [
    "movie_data['text'] = \\\n",
    "    movie_data[['title', 'description']].apply(\n",
    "        lambda row: tp.transform_text(row['title'], row['description']), axis=1)    "
   ]
  },
  {
   "cell_type": "markdown",
   "id": "a8a0eeef",
   "metadata": {},
   "source": [
    "# Model training"
   ]
  },
  {
   "cell_type": "markdown",
   "id": "6cfd01fa",
   "metadata": {},
   "source": [
    "### 1. Problem statement"
   ]
  },
  {
   "cell_type": "markdown",
   "id": "aba632c3",
   "metadata": {},
   "source": [
    "This is a multi-class classification problem."
   ]
  },
  {
   "cell_type": "markdown",
   "id": "cbcdd72d",
   "metadata": {},
   "source": [
    "### 2. Features & Labels"
   ]
  },
  {
   "cell_type": "markdown",
   "id": "4df06ed5",
   "metadata": {},
   "source": [
    "We need to one-hot encode our labels."
   ]
  },
  {
   "cell_type": "code",
   "execution_count": 21,
   "id": "327bcfd7",
   "metadata": {},
   "outputs": [],
   "source": [
    "multilabel_binarizer = MultiLabelBinarizer()  # Create a multi-class binariser\n",
    "y = multilabel_binarizer.fit_transform(movie_data['genres'])  # Fit the binariser to the data and transform"
   ]
  },
  {
   "cell_type": "markdown",
   "id": "017e84fb-c18f-4995-a074-fdc4ae774a27",
   "metadata": {},
   "source": [
    "### Create word embeddings"
   ]
  },
  {
   "cell_type": "code",
   "execution_count": 35,
   "id": "397d6386-78d3-46a6-813c-ff6db095577e",
   "metadata": {},
   "outputs": [],
   "source": [
    "X = movie_data['text']"
   ]
  },
  {
   "cell_type": "code",
   "execution_count": 36,
   "id": "3467617f",
   "metadata": {},
   "outputs": [],
   "source": [
    "# Split data to train and test set\n",
    "X_train, X_test, y_train, y_test = \\\n",
    "    train_test_split(X.values, y, test_size=0.20, random_state=42)"
   ]
  },
  {
   "cell_type": "markdown",
   "id": "49fa34e7-c5b0-4ee9-a874-7ffb22f1f7c0",
   "metadata": {},
   "source": [
    "We will only vectorise the train and validation sets to avoid any data leakage:"
   ]
  },
  {
   "cell_type": "code",
   "execution_count": 24,
   "id": "4306e95f-f21f-4b7c-af4e-fe22240c7b77",
   "metadata": {},
   "outputs": [],
   "source": [
    "# Create TF-IDF features\n",
    "tfidf_vectorizer = TfidfVectorizer(max_df=0.8, max_features=10000)\n",
    "X_train_tfidf = tfidf_vectorizer.fit_transform(X_train)"
   ]
  },
  {
   "cell_type": "code",
   "execution_count": 25,
   "id": "7c77ee47-f4d4-4d63-8a01-d22fbf6ad1f8",
   "metadata": {},
   "outputs": [],
   "source": [
    "# Split data to train and validation set\n",
    "X_train, X_val, y_train, y_val = \\\n",
    "    train_test_split(X_train_tfidf, y_train, test_size=0.20, random_state=1)"
   ]
  },
  {
   "cell_type": "code",
   "execution_count": 26,
   "id": "fc05b3f4",
   "metadata": {},
   "outputs": [],
   "source": [
    "# Get the number of classes to predict\n",
    "classes = y.shape[-1]"
   ]
  },
  {
   "cell_type": "markdown",
   "id": "c6820fe1",
   "metadata": {},
   "source": [
    "### Train the model"
   ]
  },
  {
   "cell_type": "markdown",
   "id": "cb20c9a7",
   "metadata": {},
   "source": [
    "#### 3. Model Definition"
   ]
  },
  {
   "cell_type": "code",
   "execution_count": 27,
   "id": "6fc9cb97-de4e-4671-adbb-44caf543d40c",
   "metadata": {},
   "outputs": [],
   "source": [
    "lr = LogisticRegression(solver='sag')\n",
    "clf = OneVsRestClassifier(lr)"
   ]
  },
  {
   "cell_type": "code",
   "execution_count": 28,
   "id": "58bad9c9-460e-48e3-a9d0-7a92290d09ab",
   "metadata": {},
   "outputs": [
    {
     "data": {
      "text/plain": [
       "OneVsRestClassifier(estimator=LogisticRegression(solver='sag'))"
      ]
     },
     "execution_count": 28,
     "metadata": {},
     "output_type": "execute_result"
    }
   ],
   "source": [
    "# Fit model on train data\n",
    "clf.fit(X_train, y_train)"
   ]
  },
  {
   "cell_type": "code",
   "execution_count": 29,
   "id": "88d27c3b-42e1-41d8-8533-a6e797f74789",
   "metadata": {},
   "outputs": [],
   "source": [
    "# make predictions for validation set\n",
    "y_pred = clf.predict(X_val)"
   ]
  },
  {
   "cell_type": "code",
   "execution_count": 30,
   "id": "ad974697-309d-4315-af6f-fa00cc210533",
   "metadata": {},
   "outputs": [
    {
     "data": {
      "text/plain": [
       "0.4560963645282608"
      ]
     },
     "execution_count": 30,
     "metadata": {},
     "output_type": "execute_result"
    }
   ],
   "source": [
    "# evaluate performance\n",
    "f1_score(y_val, y_pred, average=\"micro\")"
   ]
  },
  {
   "cell_type": "markdown",
   "id": "cfb4b5b9",
   "metadata": {},
   "source": [
    "### Evaluate the model"
   ]
  },
  {
   "cell_type": "code",
   "execution_count": 31,
   "id": "12bf571a-b6cf-493c-9b8a-14caf1d34b65",
   "metadata": {},
   "outputs": [
    {
     "name": "stdout",
     "output_type": "stream",
     "text": [
      "avenger earth mightiest hero must come together learn fight team going stop mischievous loki alien army enslaving humanity\n"
     ]
    }
   ],
   "source": [
    "title = 'Avengers'\n",
    "plot = 'Earths mightiest heroes must come together and learn to fight as a team if they are going to stop the mischievous Loki and his alien army from enslaving humanity.'\n",
    "\n",
    "processed_data = tp.transform_text(title, plot)\n",
    "print(processed_data)"
   ]
  },
  {
   "cell_type": "code",
   "execution_count": 47,
   "id": "eb888034-84f4-4f74-aa7c-02c4f5ad585f",
   "metadata": {},
   "outputs": [],
   "source": [
    "feature = tfidf_vectorizer.transform([processed_data])"
   ]
  },
  {
   "cell_type": "code",
   "execution_count": 48,
   "id": "8ba03cb2-1096-4499-87e5-9130c3638517",
   "metadata": {},
   "outputs": [],
   "source": [
    "y_hat = clf.predict(feature)"
   ]
  },
  {
   "cell_type": "code",
   "execution_count": 49,
   "id": "7c4d49e5-5b38-46f9-8636-61c4735a5a7b",
   "metadata": {},
   "outputs": [
    {
     "data": {
      "text/plain": [
       "[('Action', 'Science Fiction')]"
      ]
     },
     "execution_count": 49,
     "metadata": {},
     "output_type": "execute_result"
    }
   ],
   "source": [
    "multilabel_binarizer.inverse_transform(y_hat)"
   ]
  },
  {
   "cell_type": "code",
   "execution_count": null,
   "id": "841051b9-d391-4a20-ac87-940366635d0a",
   "metadata": {},
   "outputs": [],
   "source": []
  }
 ],
 "metadata": {
  "kernelspec": {
   "display_name": "Python 3",
   "language": "python",
   "name": "python3"
  },
  "language_info": {
   "codemirror_mode": {
    "name": "ipython",
    "version": 3
   },
   "file_extension": ".py",
   "mimetype": "text/x-python",
   "name": "python",
   "nbconvert_exporter": "python",
   "pygments_lexer": "ipython3",
   "version": "3.7.10"
  }
 },
 "nbformat": 4,
 "nbformat_minor": 5
}

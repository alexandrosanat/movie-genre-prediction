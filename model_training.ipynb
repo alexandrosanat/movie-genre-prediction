{
 "cells": [
  {
   "cell_type": "markdown",
   "id": "dc113a93",
   "metadata": {},
   "source": [
    "# Movie Genre Prediction"
   ]
  },
  {
   "cell_type": "code",
   "execution_count": 1,
   "id": "01498f22",
   "metadata": {},
   "outputs": [],
   "source": [
    "import zipfile\n",
    "import pandas as pd\n",
    "import numpy as np\n",
    "import json\n",
    "import nltk\n",
    "import matplotlib.pyplot as plt\n",
    "import seaborn as sns\n",
    "from sklearn.preprocessing import MultiLabelBinarizer\n",
    "from sklearn.model_selection import train_test_split\n",
    "from sklearn.feature_extraction.text import TfidfVectorizer\n",
    "from sklearn.feature_extraction.text import CountVectorizer\n",
    "from sklearn.multiclass import OneVsRestClassifier\n",
    "from sklearn.linear_model import LogisticRegression\n",
    "from sklearn.metrics import f1_score\n",
    "from sklearn.pipeline import Pipeline\n",
    "import joblib\n",
    "\n",
    "import text_processing as tp"
   ]
  },
  {
   "cell_type": "markdown",
   "id": "654194b5",
   "metadata": {},
   "source": [
    "### Purpose of script\n",
    "This script uses the \"The Movies Dataset\" dataset to train a model that predicts a movie's genre given its title and description.\n",
    "https://www.kaggle.com/rounakbanik/the-movies-dataset?select=movies_metadata.csv <br>\n",
    "\n",
    "To retrain the model and reproduce the analysis, download and save the dataset in the data folder."
   ]
  },
  {
   "cell_type": "markdown",
   "id": "651de55d",
   "metadata": {},
   "source": [
    "### Extract data"
   ]
  },
  {
   "cell_type": "markdown",
   "id": "27934ed8",
   "metadata": {},
   "source": [
    "If you haven't already unzipped the downloaded file run the cell below to unzip."
   ]
  },
  {
   "cell_type": "code",
   "execution_count": 2,
   "id": "cd834ba2",
   "metadata": {},
   "outputs": [],
   "source": [
    "MOVIE_DATA_DIR = './data/archive.zip'\n",
    "TARGET_DIR = './data/'\n",
    "\n",
    "# Check if zip file exists and extract if it does\n",
    "try:\n",
    "    with open(MOVIE_DATA_DIR) as f:\n",
    "        with zipfile.ZipFile(MOVIE_DATA_DIR, 'r') as zip_ref:\n",
    "            zip_ref.extractall(TARGET_DIR)\n",
    "except IOError:\n",
    "    print(\"File not accessible\")"
   ]
  },
  {
   "cell_type": "markdown",
   "id": "1821b1e2",
   "metadata": {},
   "source": [
    "### Load Data"
   ]
  },
  {
   "cell_type": "code",
   "execution_count": 3,
   "id": "c921cb7b",
   "metadata": {},
   "outputs": [],
   "source": [
    "MOVIE_DATA_DIR = './data/movies_metadata.csv'\n",
    "\n",
    "# Load the data into a DataFrame\n",
    "raw_data = pd.read_csv(MOVIE_DATA_DIR, sep=',', error_bad_lines=False, index_col=False, dtype='unicode')"
   ]
  },
  {
   "cell_type": "markdown",
   "id": "1fc5c953",
   "metadata": {},
   "source": [
    "We will only keep the Genre, Title and Plot for each film"
   ]
  },
  {
   "cell_type": "code",
   "execution_count": 4,
   "id": "6c39f229",
   "metadata": {},
   "outputs": [
    {
     "name": "stdout",
     "output_type": "stream",
     "text": [
      "There are 45466 records in the dataset.\n"
     ]
    },
    {
     "data": {
      "text/html": [
       "<div>\n",
       "<style scoped>\n",
       "    .dataframe tbody tr th:only-of-type {\n",
       "        vertical-align: middle;\n",
       "    }\n",
       "\n",
       "    .dataframe tbody tr th {\n",
       "        vertical-align: top;\n",
       "    }\n",
       "\n",
       "    .dataframe thead th {\n",
       "        text-align: right;\n",
       "    }\n",
       "</style>\n",
       "<table border=\"1\" class=\"dataframe\">\n",
       "  <thead>\n",
       "    <tr style=\"text-align: right;\">\n",
       "      <th></th>\n",
       "      <th>title</th>\n",
       "      <th>description</th>\n",
       "      <th>genres</th>\n",
       "    </tr>\n",
       "  </thead>\n",
       "  <tbody>\n",
       "    <tr>\n",
       "      <th>0</th>\n",
       "      <td>Toy Story</td>\n",
       "      <td>Led by Woody, Andy's toys live happily in his ...</td>\n",
       "      <td>[{'id': 16, 'name': 'Animation'}, {'id': 35, '...</td>\n",
       "    </tr>\n",
       "    <tr>\n",
       "      <th>1</th>\n",
       "      <td>Jumanji</td>\n",
       "      <td>When siblings Judy and Peter discover an encha...</td>\n",
       "      <td>[{'id': 12, 'name': 'Adventure'}, {'id': 14, '...</td>\n",
       "    </tr>\n",
       "    <tr>\n",
       "      <th>2</th>\n",
       "      <td>Grumpier Old Men</td>\n",
       "      <td>A family wedding reignites the ancient feud be...</td>\n",
       "      <td>[{'id': 10749, 'name': 'Romance'}, {'id': 35, ...</td>\n",
       "    </tr>\n",
       "    <tr>\n",
       "      <th>3</th>\n",
       "      <td>Waiting to Exhale</td>\n",
       "      <td>Cheated on, mistreated and stepped on, the wom...</td>\n",
       "      <td>[{'id': 35, 'name': 'Comedy'}, {'id': 18, 'nam...</td>\n",
       "    </tr>\n",
       "    <tr>\n",
       "      <th>4</th>\n",
       "      <td>Father of the Bride Part II</td>\n",
       "      <td>Just when George Banks has recovered from his ...</td>\n",
       "      <td>[{'id': 35, 'name': 'Comedy'}]</td>\n",
       "    </tr>\n",
       "  </tbody>\n",
       "</table>\n",
       "</div>"
      ],
      "text/plain": [
       "                         title  \\\n",
       "0                    Toy Story   \n",
       "1                      Jumanji   \n",
       "2             Grumpier Old Men   \n",
       "3            Waiting to Exhale   \n",
       "4  Father of the Bride Part II   \n",
       "\n",
       "                                         description  \\\n",
       "0  Led by Woody, Andy's toys live happily in his ...   \n",
       "1  When siblings Judy and Peter discover an encha...   \n",
       "2  A family wedding reignites the ancient feud be...   \n",
       "3  Cheated on, mistreated and stepped on, the wom...   \n",
       "4  Just when George Banks has recovered from his ...   \n",
       "\n",
       "                                              genres  \n",
       "0  [{'id': 16, 'name': 'Animation'}, {'id': 35, '...  \n",
       "1  [{'id': 12, 'name': 'Adventure'}, {'id': 14, '...  \n",
       "2  [{'id': 10749, 'name': 'Romance'}, {'id': 35, ...  \n",
       "3  [{'id': 35, 'name': 'Comedy'}, {'id': 18, 'nam...  \n",
       "4                     [{'id': 35, 'name': 'Comedy'}]  "
      ]
     },
     "execution_count": 4,
     "metadata": {},
     "output_type": "execute_result"
    }
   ],
   "source": [
    "column_names = {'original_title': 'title',\n",
    "                'overview': 'description',\n",
    "                'genres': 'genres'}\n",
    "movie_data = raw_data[column_names.keys()].copy()\n",
    "# Rename columns\n",
    "movie_data.rename(columns=column_names, inplace=True)\n",
    "raw_records = len(movie_data)\n",
    "print(\"There are {} records in the dataset.\".format(raw_records))\n",
    "# Display first 5 rows of dataset\n",
    "movie_data.head()"
   ]
  },
  {
   "cell_type": "markdown",
   "id": "ea66f218",
   "metadata": {},
   "source": [
    "### Summarise dataset information"
   ]
  },
  {
   "cell_type": "code",
   "execution_count": 5,
   "id": "114396b0",
   "metadata": {},
   "outputs": [
    {
     "name": "stdout",
     "output_type": "stream",
     "text": [
      "There are 43373 unique movies in the dataset.\n"
     ]
    }
   ],
   "source": [
    "unique_movies = len(movie_data['title'].unique())\n",
    "print(\"There are {} unique movies in the dataset.\".format(unique_movies))"
   ]
  },
  {
   "cell_type": "markdown",
   "id": "aeec8ceb",
   "metadata": {},
   "source": [
    "There are titles that contain non-english characters that need to be removed:"
   ]
  },
  {
   "cell_type": "code",
   "execution_count": 6,
   "id": "4eef5ea3",
   "metadata": {},
   "outputs": [
    {
     "name": "stdout",
     "output_type": "stream",
     "text": [
      "6177 movies were removed from the dataset.\n"
     ]
    }
   ],
   "source": [
    "movie_data = movie_data[movie_data['title'].map(lambda x: x.isascii())].reset_index(drop=True)\n",
    "english_title_movies = len(movie_data)\n",
    "print(\"{} movies were removed from the dataset.\".format(raw_records-english_title_movies))"
   ]
  },
  {
   "cell_type": "markdown",
   "id": "8f0756cd",
   "metadata": {},
   "source": [
    "We will also remove any movies without a description or title:"
   ]
  },
  {
   "cell_type": "code",
   "execution_count": 7,
   "id": "40ad8699",
   "metadata": {},
   "outputs": [
    {
     "name": "stdout",
     "output_type": "stream",
     "text": [
      "0 movies were removed from the dataset.\n"
     ]
    }
   ],
   "source": [
    "# Exclude any movies without title or description\n",
    "movie_data = movie_data.loc[~movie_data['title'].isin([''])]\n",
    "movie_data = movie_data.loc[~movie_data['title'].isin([''])]\n",
    "complete_movies = len(movie_data)\n",
    "print(\"{} movies were removed from the dataset.\".format(english_title_movies-complete_movies))"
   ]
  },
  {
   "cell_type": "markdown",
   "id": "64df50ee",
   "metadata": {},
   "source": [
    "### Data pre-processing"
   ]
  },
  {
   "cell_type": "markdown",
   "id": "2b54cbe4",
   "metadata": {},
   "source": [
    "Make sure that all datatypes are consistent:"
   ]
  },
  {
   "cell_type": "code",
   "execution_count": 8,
   "id": "c22ead41",
   "metadata": {},
   "outputs": [],
   "source": [
    "# Change Title and Description types to strings\n",
    "movie_data['title'] = movie_data['title'].astype(str)\n",
    "movie_data['description'] = movie_data['description'].astype(str)"
   ]
  },
  {
   "cell_type": "markdown",
   "id": "9cf9c2bb",
   "metadata": {},
   "source": [
    "We now need to convert the genres column to a list of genres"
   ]
  },
  {
   "cell_type": "code",
   "execution_count": 9,
   "id": "f8eecf20",
   "metadata": {},
   "outputs": [],
   "source": [
    "def extract_genres(row):\n",
    "    genres_list = row.replace(\"'\", '\"')  # Replace single quotes to convert to json\n",
    "    genres_json = json.loads(genres_list)  # Convert string to json\n",
    "    genres = [gen_dict['name'] for gen_dict in genres_json]  # Extract all genres in dict\n",
    "    return genres\n",
    "\n",
    "# Reassign the genres column to a list of the movie genres\n",
    "movie_data['genres'] = movie_data['genres'].apply(lambda x: extract_genres(x))"
   ]
  },
  {
   "cell_type": "markdown",
   "id": "dc0a84ff",
   "metadata": {},
   "source": [
    "Let's exclude any movies that do not have any genres assigned to them."
   ]
  },
  {
   "cell_type": "code",
   "execution_count": 10,
   "id": "c8f60347",
   "metadata": {},
   "outputs": [
    {
     "name": "stdout",
     "output_type": "stream",
     "text": [
      "2062 movies were removed from the dataset.\n"
     ]
    }
   ],
   "source": [
    "movie_data = movie_data[movie_data['genres'].map(lambda x: len(x)) > 0]\n",
    "records_with_genres = len(movie_data)\n",
    "print(\"{} movies were removed from the dataset.\".format(complete_movies-records_with_genres))"
   ]
  },
  {
   "cell_type": "markdown",
   "id": "824018d4",
   "metadata": {},
   "source": [
    "There are movies with multiple same genres that need to be removed:"
   ]
  },
  {
   "cell_type": "code",
   "execution_count": 11,
   "id": "871fb959",
   "metadata": {},
   "outputs": [],
   "source": [
    "# Get a unique list of genres for each movie\n",
    "movie_data['genres'] = movie_data['genres'].apply(lambda x: list(set(x)))"
   ]
  },
  {
   "cell_type": "markdown",
   "id": "9bbcd078",
   "metadata": {},
   "source": [
    "Now that we have the complete dataset let's explore how many genres are available. We will use NLTK which is a natural language processing tool:"
   ]
  },
  {
   "cell_type": "code",
   "execution_count": 12,
   "id": "95e18439",
   "metadata": {
    "tags": []
   },
   "outputs": [
    {
     "name": "stdout",
     "output_type": "stream",
     "text": [
      "There are 27 unique genres in the dataset.\n"
     ]
    }
   ],
   "source": [
    "# Create a list of all the available genres\n",
    "all_genres = [item for sublist in movie_data['genres'].values for item in sublist]\n",
    "unique_genres = len(set(all_genres))\n",
    "print(\"There are {} unique genres in the dataset.\".format(unique_genres))\n",
    "\n",
    "# Get the term frequencies\n",
    "all_genres = nltk.FreqDist(all_genres)\n",
    "# Create a DataFrame for plotting\n",
    "all_genres_df = pd.DataFrame({'Genre': list(all_genres.keys()), \n",
    "                              'Count': list(all_genres.values())})\n",
    "# Before we plot let's normalise the results by the total number of movies\n",
    "all_genres_df['Normalised Count'] = all_genres_df['Count'] / all_genres_df['Count'].sum()"
   ]
  },
  {
   "cell_type": "markdown",
   "id": "a55bf1cd",
   "metadata": {},
   "source": [
    "Let's visualise the results:"
   ]
  },
  {
   "cell_type": "code",
   "execution_count": 13,
   "id": "37cf425b",
   "metadata": {},
   "outputs": [
    {
     "data": {
      "image/png": "[encoded data removed]",
      "text/plain": [
       "<Figure size 576x504 with 1 Axes>"
      ]
     },
     "metadata": {
      "needs_background": "light"
     },
     "output_type": "display_data"
    }
   ],
   "source": [
    "g = all_genres_df.nlargest(columns=\"Count\", n=50) \n",
    "plt.figure(figsize=(8, 7)) \n",
    "ax = sns.barplot(data=g, x= \"Normalised Count\", y = \"Genre\") \n",
    "ax.set(ylabel = 'Normalised Count') \n",
    "plt.show()"
   ]
  },
  {
   "cell_type": "markdown",
   "id": "6ca9d621",
   "metadata": {},
   "source": [
    "We see that the last 7 genres do not fall under any specific category so we will replace them with \"Other\"."
   ]
  },
  {
   "cell_type": "code",
   "execution_count": 14,
   "id": "083f6df9",
   "metadata": {},
   "outputs": [],
   "source": [
    "unknown_genres = ['Carousel Productions',\n",
    "                  'Vision View Entertainment',\n",
    "                  'Telescene Film Group Productions',\n",
    "                  'Odyssey Media',\n",
    "                  'Pulser Productions',\n",
    "                  'Rogue State',\n",
    "                  'The Cartel']"
   ]
  },
  {
   "cell_type": "markdown",
   "id": "b7347dda",
   "metadata": {},
   "source": [
    "Let's loop though all our entries and remove these genres since their count is too small."
   ]
  },
  {
   "cell_type": "code",
   "execution_count": 15,
   "id": "b2ee9c2e",
   "metadata": {},
   "outputs": [],
   "source": [
    "def remove_genres(row):\n",
    "    '''\n",
    "    Loops through all genres for each film and replaces with \"Other\"\n",
    "    if genre is in the unknown_genres list.\n",
    "    '''\n",
    "    new_items = [x for x in row if x not in unknown_genres]\n",
    "    \n",
    "    return new_items\n",
    "\n",
    "# Remove unknown genres from dataset\n",
    "movie_data['genres'] = movie_data['genres'].apply(lambda x: remove_genres(x))  \n",
    "# Reset df index\n",
    "movie_data.reset_index(drop=True, inplace=True)"
   ]
  },
  {
   "cell_type": "code",
   "execution_count": 16,
   "id": "4fea6bcf",
   "metadata": {},
   "outputs": [
    {
     "name": "stdout",
     "output_type": "stream",
     "text": [
      "There are 20 unique genres in the dataset.\n"
     ]
    }
   ],
   "source": [
    "# Create a list of all the available genres\n",
    "all_genres = [item for sublist in movie_data['genres'].values for item in sublist]\n",
    "unique_genres = len(set(all_genres))\n",
    "print(\"There are {} unique genres in the dataset.\".format(unique_genres))\n",
    "\n",
    "# Get the term frequencies\n",
    "all_genres = nltk.FreqDist(all_genres)\n",
    "# Create a DataFrame for plotting\n",
    "all_genres_df = pd.DataFrame({'Genre': list(all_genres.keys()), \n",
    "                              'Count': list(all_genres.values())})\n",
    "# Before we plot let's normalise the results by the total number of movies\n",
    "all_genres_df['Normalised Count'] = all_genres_df['Count'] / all_genres_df['Count'].sum()"
   ]
  },
  {
   "cell_type": "code",
   "execution_count": 17,
   "id": "44c9d69d",
   "metadata": {},
   "outputs": [
    {
     "data": {
      "image/png": "[encoded data removed]",
      "text/plain": [
       "<Figure size 576x504 with 1 Axes>"
      ]
     },
     "metadata": {
      "needs_background": "light"
     },
     "output_type": "display_data"
    }
   ],
   "source": [
    "g = all_genres_df.nlargest(columns=\"Count\", n=50) \n",
    "plt.figure(figsize=(8, 7)) \n",
    "ax = sns.barplot(data=g, x= \"Normalised Count\", y = \"Genre\") \n",
    "ax.set(ylabel = 'Normalised Count') \n",
    "plt.show()"
   ]
  },
  {
   "cell_type": "markdown",
   "id": "00e468b8",
   "metadata": {},
   "source": [
    "The distribution of genres is skewed so when splitting the data for training we will try to stratify the dataset and potentially oversample the minority classes."
   ]
  },
  {
   "cell_type": "markdown",
   "id": "00b69713",
   "metadata": {},
   "source": [
    "#### Text pre-processing\n",
    "\n",
    "Before we train any models we will need to pre-process our text. <br>\n",
    "We will follow these steps:\n",
    "- Join the movie title to the movie description\n",
    "- Remove whitespace, slashes, non-alphabetic charactes and convert text to lowecase\n",
    "- Lemmatise the words\n",
    "- Remove any stopwords"
   ]
  },
  {
   "cell_type": "code",
   "execution_count": 18,
   "id": "66b011f0-f711-4a85-bd0d-efbf3f36e690",
   "metadata": {},
   "outputs": [],
   "source": [
    "movie_data['text'] = \\\n",
    "    movie_data[['title', 'description']].apply(\n",
    "        lambda row: tp.transform_text(row['title'], row['description']), axis=1)    "
   ]
  },
  {
   "cell_type": "markdown",
   "id": "a8a0eeef",
   "metadata": {},
   "source": [
    "# Model training"
   ]
  },
  {
   "cell_type": "markdown",
   "id": "6cfd01fa",
   "metadata": {},
   "source": [
    "### 1. Problem statement"
   ]
  },
  {
   "cell_type": "markdown",
   "id": "aba632c3",
   "metadata": {},
   "source": [
    "This is a multi-class classification problem."
   ]
  },
  {
   "cell_type": "markdown",
   "id": "cbcdd72d",
   "metadata": {},
   "source": [
    "### 2. Features & Labels"
   ]
  },
  {
   "cell_type": "markdown",
   "id": "4df06ed5",
   "metadata": {},
   "source": [
    "We need to one-hot encode our labels."
   ]
  },
  {
   "cell_type": "code",
   "execution_count": 35,
   "id": "327bcfd7",
   "metadata": {},
   "outputs": [],
   "source": [
    "multilabel_binarizer = MultiLabelBinarizer()  # Create a multi-class binariser\n",
    "y = multilabel_binarizer.fit_transform(movie_data['genres'])  # Fit the binariser to the data and transform"
   ]
  },
  {
   "cell_type": "code",
   "execution_count": 113,
   "id": "821d290e-344d-4242-9ef8-3a84019c233b",
   "metadata": {},
   "outputs": [],
   "source": [
    "X = movie_data['text']"
   ]
  },
  {
   "cell_type": "code",
   "execution_count": 114,
   "id": "3310fc1c-8455-448b-9a77-df20e9f3c04d",
   "metadata": {},
   "outputs": [],
   "source": [
    "# Split data to train and test set\n",
    "X_train, X_test, y_train, y_test = \\\n",
    "    train_test_split(X.values, y, test_size=0.20, random_state=42)"
   ]
  },
  {
   "cell_type": "markdown",
   "id": "bff258c6-2a71-4e78-bc7d-d5add648bec5",
   "metadata": {},
   "source": [
    "### 3. Train Model"
   ]
  },
  {
   "cell_type": "code",
   "execution_count": 115,
   "id": "e710d6a0-c235-41a1-a80e-94a0b58d0775",
   "metadata": {},
   "outputs": [],
   "source": [
    "# Create TF-IDF features\n",
    "tfidf_vectorizer = TfidfVectorizer(max_df=0.8, max_features=10000)"
   ]
  },
  {
   "cell_type": "code",
   "execution_count": 122,
   "id": "7e209aca-3687-43cc-b0ae-711e9de19a88",
   "metadata": {},
   "outputs": [],
   "source": [
    "lr = LogisticRegression(solver='sag')\n",
    "clf = OneVsRestClassifier(lr)"
   ]
  },
  {
   "cell_type": "code",
   "execution_count": 126,
   "id": "784c8baf-0e52-468e-82d1-26e9069e4dd9",
   "metadata": {},
   "outputs": [],
   "source": [
    "clf_pipeline = Pipeline([('Vectorizer', tfidf_vectorizer),\n",
    "                         ('Classifier', clf)])"
   ]
  },
  {
   "cell_type": "code",
   "execution_count": 127,
   "id": "47ec3c0e-ca0f-4633-96d7-1ce5fb3f1169",
   "metadata": {},
   "outputs": [
    {
     "data": {
      "text/plain": [
       "Pipeline(steps=[('Vectorizer', TfidfVectorizer(max_df=0.8, max_features=10000)),\n",
       "                ('Classifier',\n",
       "                 OneVsRestClassifier(estimator=LogisticRegression(solver='sag')))])"
      ]
     },
     "execution_count": 127,
     "metadata": {},
     "output_type": "execute_result"
    }
   ],
   "source": [
    "clf_pipeline.fit(X_train, y_train)"
   ]
  },
  {
   "cell_type": "code",
   "execution_count": 129,
   "id": "eb5ed18f-3c39-4c26-bc97-d767771c150b",
   "metadata": {},
   "outputs": [],
   "source": [
    "# make predictions for validation set\n",
    "y_pred_test = clf_pipeline.predict(X_test)"
   ]
  },
  {
   "cell_type": "code",
   "execution_count": 132,
   "id": "75c16fa8-3ecc-4203-9e62-1f8e42c58ad6",
   "metadata": {},
   "outputs": [
    {
     "data": {
      "text/plain": [
       "0.4756386398240568"
      ]
     },
     "execution_count": 132,
     "metadata": {},
     "output_type": "execute_result"
    }
   ],
   "source": [
    "# evaluate performance\n",
    "f1_score(y_test, y_pred_test, average=\"micro\")"
   ]
  },
  {
   "cell_type": "code",
   "execution_count": 133,
   "id": "11d018d3-6250-464a-8180-2971d7cc4c39",
   "metadata": {},
   "outputs": [
    {
     "name": "stdout",
     "output_type": "stream",
     "text": [
      "avenger earth mightiest hero must come together learn fight team going stop mischievous loki alien army enslaving humanity\n"
     ]
    }
   ],
   "source": [
    "title = 'Avengers'\n",
    "plot = 'Earths mightiest heroes must come together and learn to fight as a team if they are going to stop the mischievous Loki and his alien army from enslaving humanity.'\n",
    "\n",
    "processed_data = tp.transform_text(title, plot)\n",
    "print(processed_data)"
   ]
  },
  {
   "cell_type": "code",
   "execution_count": 143,
   "id": "0219e871-64af-43c4-96d1-4e09ce4a1ab6",
   "metadata": {
    "collapsed": true,
    "jupyter": {
     "outputs_hidden": true
    },
    "tags": []
   },
   "outputs": [
    {
     "data": {
      "text/html": [
       "<div>\n",
       "<style scoped>\n",
       "    .dataframe tbody tr th:only-of-type {\n",
       "        vertical-align: middle;\n",
       "    }\n",
       "\n",
       "    .dataframe tbody tr th {\n",
       "        vertical-align: top;\n",
       "    }\n",
       "\n",
       "    .dataframe thead th {\n",
       "        text-align: right;\n",
       "    }\n",
       "</style>\n",
       "<table border=\"1\" class=\"dataframe\">\n",
       "  <thead>\n",
       "    <tr style=\"text-align: right;\">\n",
       "      <th></th>\n",
       "      <th>Probabilities</th>\n",
       "    </tr>\n",
       "  </thead>\n",
       "  <tbody>\n",
       "    <tr>\n",
       "      <th>Science Fiction</th>\n",
       "      <td>0.922501</td>\n",
       "    </tr>\n",
       "    <tr>\n",
       "      <th>Action</th>\n",
       "      <td>0.890055</td>\n",
       "    </tr>\n",
       "    <tr>\n",
       "      <th>Comedy</th>\n",
       "      <td>0.488079</td>\n",
       "    </tr>\n",
       "    <tr>\n",
       "      <th>Adventure</th>\n",
       "      <td>0.438566</td>\n",
       "    </tr>\n",
       "    <tr>\n",
       "      <th>Animation</th>\n",
       "      <td>0.241599</td>\n",
       "    </tr>\n",
       "    <tr>\n",
       "      <th>Family</th>\n",
       "      <td>0.210469</td>\n",
       "    </tr>\n",
       "    <tr>\n",
       "      <th>Fantasy</th>\n",
       "      <td>0.145016</td>\n",
       "    </tr>\n",
       "    <tr>\n",
       "      <th>Horror</th>\n",
       "      <td>0.121162</td>\n",
       "    </tr>\n",
       "    <tr>\n",
       "      <th>Thriller</th>\n",
       "      <td>0.065492</td>\n",
       "    </tr>\n",
       "    <tr>\n",
       "      <th>War</th>\n",
       "      <td>0.065064</td>\n",
       "    </tr>\n",
       "    <tr>\n",
       "      <th>Drama</th>\n",
       "      <td>0.041413</td>\n",
       "    </tr>\n",
       "    <tr>\n",
       "      <th>Romance</th>\n",
       "      <td>0.038501</td>\n",
       "    </tr>\n",
       "    <tr>\n",
       "      <th>Western</th>\n",
       "      <td>0.017613</td>\n",
       "    </tr>\n",
       "    <tr>\n",
       "      <th>TV Movie</th>\n",
       "      <td>0.014778</td>\n",
       "    </tr>\n",
       "    <tr>\n",
       "      <th>History</th>\n",
       "      <td>0.013902</td>\n",
       "    </tr>\n",
       "    <tr>\n",
       "      <th>Foreign</th>\n",
       "      <td>0.013858</td>\n",
       "    </tr>\n",
       "    <tr>\n",
       "      <th>Mystery</th>\n",
       "      <td>0.013677</td>\n",
       "    </tr>\n",
       "    <tr>\n",
       "      <th>Music</th>\n",
       "      <td>0.012426</td>\n",
       "    </tr>\n",
       "    <tr>\n",
       "      <th>Crime</th>\n",
       "      <td>0.010004</td>\n",
       "    </tr>\n",
       "    <tr>\n",
       "      <th>Documentary</th>\n",
       "      <td>0.009239</td>\n",
       "    </tr>\n",
       "  </tbody>\n",
       "</table>\n",
       "</div>"
      ],
      "text/plain": [
       "                 Probabilities\n",
       "Science Fiction       0.922501\n",
       "Action                0.890055\n",
       "Comedy                0.488079\n",
       "Adventure             0.438566\n",
       "Animation             0.241599\n",
       "Family                0.210469\n",
       "Fantasy               0.145016\n",
       "Horror                0.121162\n",
       "Thriller              0.065492\n",
       "War                   0.065064\n",
       "Drama                 0.041413\n",
       "Romance               0.038501\n",
       "Western               0.017613\n",
       "TV Movie              0.014778\n",
       "History               0.013902\n",
       "Foreign               0.013858\n",
       "Mystery               0.013677\n",
       "Music                 0.012426\n",
       "Crime                 0.010004\n",
       "Documentary           0.009239"
      ]
     },
     "execution_count": 143,
     "metadata": {},
     "output_type": "execute_result"
    }
   ],
   "source": [
    "probabilities = clf_pipeline.predict_proba([processed_data])\n",
    "probabilities_df = pd.DataFrame(probabilities, index=['Probabilities'], columns=multilabel_binarizer.classes_).T\n",
    "probabilities_df.sort_values(by='Probabilities', ascending=False)"
   ]
  },
  {
   "cell_type": "code",
   "execution_count": 144,
   "id": "0761c4fe-6cff-4437-9ff5-6c09509019aa",
   "metadata": {},
   "outputs": [],
   "source": [
    "threshold = 0.5\n",
    "top_genres = np.where(probabilities > threshold, 1, 0)"
   ]
  },
  {
   "cell_type": "code",
   "execution_count": 145,
   "id": "e87135b4-c722-47e9-8bc9-f8e91afa90c5",
   "metadata": {},
   "outputs": [
    {
     "data": {
      "text/plain": [
       "array(['Action', 'Science Fiction'], dtype=object)"
      ]
     },
     "execution_count": 145,
     "metadata": {},
     "output_type": "execute_result"
    }
   ],
   "source": [
    "multilabel_binarizer.classes_[top_genres[0] > 0]"
   ]
  },
  {
   "cell_type": "markdown",
   "id": "3e16c552-6c31-4f71-8e9c-0d67fe7cd206",
   "metadata": {},
   "source": [
    "Export model to pickle"
   ]
  },
  {
   "cell_type": "code",
   "execution_count": 151,
   "id": "fefa8bd6-3811-40b5-ac7e-2d50c3805443",
   "metadata": {},
   "outputs": [],
   "source": [
    "model_filename = \"./movie_classifier_trained_model.pkl\"  \n",
    "\n",
    "with open(model_filename, 'wb') as filename:  \n",
    "    joblib.dump({'pipeline': clf_pipeline, 'genres': multilabel_binarizer.classes_}, model_filename)"
   ]
  },
  {
   "cell_type": "code",
   "execution_count": null,
   "id": "ebe678f8-f348-409a-a46d-69597f708dfb",
   "metadata": {},
   "outputs": [],
   "source": []
  }
 ],
 "metadata": {
  "kernelspec": {
   "display_name": "Python 3",
   "language": "python",
   "name": "python3"
  },
  "language_info": {
   "codemirror_mode": {
    "name": "ipython",
    "version": 3
   },
   "file_extension": ".py",
   "mimetype": "text/x-python",
   "name": "python",
   "nbconvert_exporter": "python",
   "pygments_lexer": "ipython3",
   "version": "3.7.10"
  }
 },
 "nbformat": 4,
 "nbformat_minor": 5
}

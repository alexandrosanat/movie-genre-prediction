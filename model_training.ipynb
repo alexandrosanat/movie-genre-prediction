{
 "cells": [
  {
   "cell_type": "markdown",
   "metadata": {},
   "source": [
    "# Movie Genre Prediction"
   ]
  },
  {
   "cell_type": "code",
   "execution_count": 1,
   "metadata": {},
   "outputs": [],
   "source": [
    "import zipfile\n",
    "import pandas as pd\n",
    "import numpy as np\n",
    "import json\n",
    "import nltk\n",
    "import matplotlib.pyplot as plt\n",
    "import seaborn as sns\n",
    "from sklearn.preprocessing import MultiLabelBinarizer\n",
    "from sklearn.model_selection import train_test_split, GridSearchCV\n",
    "from sklearn.feature_extraction.text import TfidfVectorizer\n",
    "from sklearn.feature_extraction.text import CountVectorizer\n",
    "from sklearn.multiclass import OneVsRestClassifier\n",
    "from sklearn.linear_model import LogisticRegression\n",
    "from sklearn.metrics import f1_score, accuracy_score, multilabel_confusion_matrix\n",
    "from sklearn.pipeline import Pipeline\n",
    "import joblib\n",
    "from sklearn.naive_bayes import MultinomialNB\n",
    "from sklearn.svm import SVC\n",
    "from sklearn.ensemble import RandomForestClassifier, GradientBoostingClassifier\n",
    "from sklearn.tree import DecisionTreeClassifier\n",
    "import text_processing as tp\n",
    "\n",
    "sns.set(style=\"whitegrid\", color_codes=True)"
   ]
  },
  {
   "cell_type": "markdown",
   "metadata": {},
   "source": [
    "### Purpose of script\n",
    "This script uses the [\"The Movies Dataset\"](https://www.kaggle.com/rounakbanik/the-movies-dataset?select=movies_metadata.csv) \n",
    "dataset to train a model that predicts a movie's genre given its title and description. <br>\n",
    "\n",
    "To retrain the model and reproduce the analysis, follow the link to download zipped folder and save it in the ./data folder."
   ]
  },
  {
   "cell_type": "markdown",
   "metadata": {},
   "source": [
    "### Extract data"
   ]
  },
  {
   "cell_type": "markdown",
   "metadata": {},
   "source": [
    "If you haven't already unzipped the downloaded file run the cell below to unzip."
   ]
  },
  {
   "cell_type": "code",
   "execution_count": 2,
   "metadata": {},
   "outputs": [],
   "source": [
    "MOVIE_DATA_DIR = './data/archive.zip'\n",
    "TARGET_DIR = './data/'\n",
    "\n",
    "# Check if zip file exists and extract if it does\n",
    "try:\n",
    "    with open(MOVIE_DATA_DIR) as f:\n",
    "        with zipfile.ZipFile(MOVIE_DATA_DIR, 'r') as zip_ref:\n",
    "            zip_ref.extractall(TARGET_DIR)\n",
    "except IOError:\n",
    "    print(\"File not accessible\")"
   ]
  },
  {
   "cell_type": "markdown",
   "metadata": {},
   "source": [
    "### Load Data"
   ]
  },
  {
   "cell_type": "code",
   "execution_count": 3,
   "metadata": {},
   "outputs": [],
   "source": [
    "MOVIE_DATA_DIR = './data/movies_metadata.csv'\n",
    "\n",
    "# Load the data into a DataFrame\n",
    "raw_data = pd.read_csv(MOVIE_DATA_DIR, sep=',', error_bad_lines=False, index_col=False, dtype='unicode')"
   ]
  },
  {
   "cell_type": "markdown",
   "metadata": {},
   "source": [
    "We will only keep the *Genre*, *Title* and *Plot* for each film:"
   ]
  },
  {
   "cell_type": "code",
   "execution_count": 4,
   "metadata": {},
   "outputs": [
    {
     "name": "stdout",
     "output_type": "stream",
     "text": [
      "There are 45466 records in the dataset.\n"
     ]
    },
    {
     "data": {
      "text/html": [
       "<div>\n",
       "<style scoped>\n",
       "    .dataframe tbody tr th:only-of-type {\n",
       "        vertical-align: middle;\n",
       "    }\n",
       "\n",
       "    .dataframe tbody tr th {\n",
       "        vertical-align: top;\n",
       "    }\n",
       "\n",
       "    .dataframe thead th {\n",
       "        text-align: right;\n",
       "    }\n",
       "</style>\n",
       "<table border=\"1\" class=\"dataframe\">\n",
       "  <thead>\n",
       "    <tr style=\"text-align: right;\">\n",
       "      <th></th>\n",
       "      <th>title</th>\n",
       "      <th>description</th>\n",
       "      <th>genres</th>\n",
       "    </tr>\n",
       "  </thead>\n",
       "  <tbody>\n",
       "    <tr>\n",
       "      <th>0</th>\n",
       "      <td>Toy Story</td>\n",
       "      <td>Led by Woody, Andy's toys live happily in his ...</td>\n",
       "      <td>[{'id': 16, 'name': 'Animation'}, {'id': 35, '...</td>\n",
       "    </tr>\n",
       "    <tr>\n",
       "      <th>1</th>\n",
       "      <td>Jumanji</td>\n",
       "      <td>When siblings Judy and Peter discover an encha...</td>\n",
       "      <td>[{'id': 12, 'name': 'Adventure'}, {'id': 14, '...</td>\n",
       "    </tr>\n",
       "    <tr>\n",
       "      <th>2</th>\n",
       "      <td>Grumpier Old Men</td>\n",
       "      <td>A family wedding reignites the ancient feud be...</td>\n",
       "      <td>[{'id': 10749, 'name': 'Romance'}, {'id': 35, ...</td>\n",
       "    </tr>\n",
       "    <tr>\n",
       "      <th>3</th>\n",
       "      <td>Waiting to Exhale</td>\n",
       "      <td>Cheated on, mistreated and stepped on, the wom...</td>\n",
       "      <td>[{'id': 35, 'name': 'Comedy'}, {'id': 18, 'nam...</td>\n",
       "    </tr>\n",
       "    <tr>\n",
       "      <th>4</th>\n",
       "      <td>Father of the Bride Part II</td>\n",
       "      <td>Just when George Banks has recovered from his ...</td>\n",
       "      <td>[{'id': 35, 'name': 'Comedy'}]</td>\n",
       "    </tr>\n",
       "  </tbody>\n",
       "</table>\n",
       "</div>"
      ],
      "text/plain": [
       "                         title  \\\n",
       "0                    Toy Story   \n",
       "1                      Jumanji   \n",
       "2             Grumpier Old Men   \n",
       "3            Waiting to Exhale   \n",
       "4  Father of the Bride Part II   \n",
       "\n",
       "                                         description  \\\n",
       "0  Led by Woody, Andy's toys live happily in his ...   \n",
       "1  When siblings Judy and Peter discover an encha...   \n",
       "2  A family wedding reignites the ancient feud be...   \n",
       "3  Cheated on, mistreated and stepped on, the wom...   \n",
       "4  Just when George Banks has recovered from his ...   \n",
       "\n",
       "                                              genres  \n",
       "0  [{'id': 16, 'name': 'Animation'}, {'id': 35, '...  \n",
       "1  [{'id': 12, 'name': 'Adventure'}, {'id': 14, '...  \n",
       "2  [{'id': 10749, 'name': 'Romance'}, {'id': 35, ...  \n",
       "3  [{'id': 35, 'name': 'Comedy'}, {'id': 18, 'nam...  \n",
       "4                     [{'id': 35, 'name': 'Comedy'}]  "
      ]
     },
     "execution_count": 4,
     "metadata": {},
     "output_type": "execute_result"
    }
   ],
   "source": [
    "column_names = {'original_title': 'title',\n",
    "                'overview': 'description',\n",
    "                'genres': 'genres'}\n",
    "movie_data = raw_data[column_names.keys()].copy()\n",
    "# Rename columns\n",
    "movie_data.rename(columns=column_names, inplace=True)\n",
    "raw_records = len(movie_data)\n",
    "print(\"There are {} records in the dataset.\".format(raw_records))\n",
    "# Display first 5 rows of dataset\n",
    "movie_data.head()"
   ]
  },
  {
   "cell_type": "markdown",
   "metadata": {},
   "source": [
    "### Summarise dataset information"
   ]
  },
  {
   "cell_type": "code",
   "execution_count": 5,
   "metadata": {},
   "outputs": [
    {
     "name": "stdout",
     "output_type": "stream",
     "text": [
      "There are 43373 unique movies in the dataset.\n"
     ]
    }
   ],
   "source": [
    "unique_movies = len(movie_data['title'].unique())\n",
    "print(\"There are {} unique movies in the dataset.\".format(unique_movies))"
   ]
  },
  {
   "cell_type": "markdown",
   "metadata": {},
   "source": [
    "There are titles that contain non-english characters that need to be removed:"
   ]
  },
  {
   "cell_type": "code",
   "execution_count": 6,
   "metadata": {},
   "outputs": [
    {
     "name": "stdout",
     "output_type": "stream",
     "text": [
      "6177 movies were removed from the dataset.\n"
     ]
    }
   ],
   "source": [
    "movie_data = movie_data[movie_data['title'].map(lambda x: x.isascii())].reset_index(drop=True)\n",
    "english_title_movies = len(movie_data)\n",
    "print(\"{} movies were removed from the dataset.\".format(raw_records-english_title_movies))"
   ]
  },
  {
   "cell_type": "markdown",
   "metadata": {},
   "source": [
    "We will also remove any movies without a description or title:"
   ]
  },
  {
   "cell_type": "code",
   "execution_count": 7,
   "metadata": {},
   "outputs": [
    {
     "name": "stdout",
     "output_type": "stream",
     "text": [
      "0 movies were removed from the dataset.\n"
     ]
    }
   ],
   "source": [
    "# Exclude any movies without title or description\n",
    "movie_data = movie_data.loc[~movie_data['title'].isin([''])]\n",
    "movie_data = movie_data.loc[~movie_data['title'].isin([''])]\n",
    "complete_movies = len(movie_data)\n",
    "print(\"{} movies were removed from the dataset.\".format(english_title_movies-complete_movies))"
   ]
  },
  {
   "cell_type": "markdown",
   "metadata": {},
   "source": [
    "### Data pre-processing"
   ]
  },
  {
   "cell_type": "markdown",
   "metadata": {},
   "source": [
    "Make sure that all datatypes are consistent:"
   ]
  },
  {
   "cell_type": "code",
   "execution_count": 8,
   "metadata": {},
   "outputs": [],
   "source": [
    "# Change Title and Description types to strings\n",
    "movie_data['title'] = movie_data['title'].astype(str)\n",
    "movie_data['description'] = movie_data['description'].astype(str)"
   ]
  },
  {
   "cell_type": "markdown",
   "metadata": {},
   "source": [
    "We now need to convert the genres column to a list of genres"
   ]
  },
  {
   "cell_type": "code",
   "execution_count": 9,
   "metadata": {},
   "outputs": [],
   "source": [
    "def extract_genres(row):\n",
    "    genres_list = row.replace(\"'\", '\"')  # Replace single quotes to convert to json\n",
    "    genres_json = json.loads(genres_list)  # Convert string to json\n",
    "    genres = [gen_dict['name'] for gen_dict in genres_json]  # Extract all genres in dict\n",
    "    return genres\n",
    "\n",
    "# Reassign the genres column to a list of the movie genres\n",
    "movie_data['genres'] = movie_data['genres'].apply(lambda x: extract_genres(x))"
   ]
  },
  {
   "cell_type": "markdown",
   "metadata": {},
   "source": [
    "Let's exclude any movies that do not have any genres assigned to them."
   ]
  },
  {
   "cell_type": "code",
   "execution_count": 10,
   "metadata": {},
   "outputs": [
    {
     "name": "stdout",
     "output_type": "stream",
     "text": [
      "2062 movies were removed from the dataset.\n"
     ]
    }
   ],
   "source": [
    "movie_data = movie_data[movie_data['genres'].map(lambda x: len(x)) > 0]\n",
    "records_with_genres = len(movie_data)\n",
    "print(\"{} movies were removed from the dataset.\".format(complete_movies-records_with_genres))"
   ]
  },
  {
   "cell_type": "markdown",
   "metadata": {},
   "source": [
    "There are movies with multiple same genres that need to be removed:"
   ]
  },
  {
   "cell_type": "code",
   "execution_count": 11,
   "metadata": {},
   "outputs": [],
   "source": [
    "# Get a unique list of genres for each movie\n",
    "movie_data['genres'] = movie_data['genres'].apply(lambda x: list(set(x)))"
   ]
  },
  {
   "cell_type": "markdown",
   "metadata": {},
   "source": [
    "Now that we have the complete dataset let's explore how many genres are available. We will use NLTK which is a natural language processing tool to get the word frequencies:"
   ]
  },
  {
   "cell_type": "code",
   "execution_count": 12,
   "metadata": {
    "tags": []
   },
   "outputs": [
    {
     "name": "stdout",
     "output_type": "stream",
     "text": [
      "There are 27 unique genres in the dataset.\n"
     ]
    }
   ],
   "source": [
    "# Create a list of all the available genres\n",
    "all_genres = [item for sublist in movie_data['genres'].values for item in sublist]\n",
    "unique_genres = len(set(all_genres))\n",
    "print(\"There are {} unique genres in the dataset.\".format(unique_genres))\n",
    "\n",
    "# Get the term frequencies\n",
    "all_genres = nltk.FreqDist(all_genres)\n",
    "# Create a DataFrame for plotting\n",
    "all_genres_df = pd.DataFrame({'Genre': list(all_genres.keys()), \n",
    "                              'Count': list(all_genres.values())})\n",
    "# Before we plot let's normalise the results by the total number of movies\n",
    "all_genres_df['Normalised Count'] = all_genres_df['Count'] / all_genres_df['Count'].sum()"
   ]
  },
  {
   "cell_type": "markdown",
   "metadata": {},
   "source": [
    "Let's visualise the results:"
   ]
  },
  {
   "cell_type": "code",
   "execution_count": 13,
   "metadata": {},
   "outputs": [],
   "source": [
    "def plot_barplot(data):\n",
    "    '''\n",
    "    Takes in a dataframe with Genres and Counts \n",
    "    and plots a barplot of the data.\n",
    "    '''\n",
    "    pal = sns.color_palette(\"Reds_d\", len(data))\n",
    "    rank = data['Normalised Count'].argsort().argsort()\n",
    "    g = data.nlargest(columns=\"Count\", n=50) \n",
    "    plt.figure(figsize=(8, 7)) \n",
    "    ax = sns.barplot(data=g, x= \"Normalised Count\", y = \"Genre\", palette=np.array(pal[::-1])) \n",
    "    ax.set(ylabel = 'Normalised Count') \n",
    "    plt.show()"
   ]
  },
  {
   "cell_type": "code",
   "execution_count": 14,
   "metadata": {},
   "outputs": [
    {
     "data": {
      "image/png": "[encoded data removed]",
      "text/plain": [
       "<Figure size 576x504 with 1 Axes>"
      ]
     },
     "metadata": {},
     "output_type": "display_data"
    }
   ],
   "source": [
    "plot_barplot(all_genres_df)"
   ]
  },
  {
   "cell_type": "markdown",
   "metadata": {},
   "source": [
    "We see that the last 7 genres do not fall under any specific category so we remove them."
   ]
  },
  {
   "cell_type": "code",
   "execution_count": 15,
   "metadata": {},
   "outputs": [],
   "source": [
    "unknown_genres = ['Carousel Productions',\n",
    "                  'Vision View Entertainment',\n",
    "                  'Telescene Film Group Productions',\n",
    "                  'Odyssey Media',\n",
    "                  'Pulser Productions',\n",
    "                  'Rogue State',\n",
    "                  'The Cartel']"
   ]
  },
  {
   "cell_type": "markdown",
   "metadata": {},
   "source": [
    "Let's loop though all our entries and remove these genres since their count is too small."
   ]
  },
  {
   "cell_type": "code",
   "execution_count": 16,
   "metadata": {},
   "outputs": [],
   "source": [
    "def remove_genres(row):\n",
    "    '''\n",
    "    Loops through all genres for each film and replaces with \"Other\"\n",
    "    if genre is in the unknown_genres list.\n",
    "    '''\n",
    "    new_items = [x for x in row if x not in unknown_genres]\n",
    "    \n",
    "    return new_items\n",
    "\n",
    "# Remove unknown genres from dataset\n",
    "movie_data['genres'] = movie_data['genres'].apply(lambda x: remove_genres(x))  \n",
    "# Reset df index\n",
    "movie_data.reset_index(drop=True, inplace=True)"
   ]
  },
  {
   "cell_type": "code",
   "execution_count": 17,
   "metadata": {},
   "outputs": [
    {
     "name": "stdout",
     "output_type": "stream",
     "text": [
      "There are 20 unique genres in the dataset.\n"
     ]
    }
   ],
   "source": [
    "# Create a list of all the available genres\n",
    "all_genres = [item for sublist in movie_data['genres'].values for item in sublist]\n",
    "unique_genres = len(set(all_genres))\n",
    "print(\"There are {} unique genres in the dataset.\".format(unique_genres))\n",
    "\n",
    "# Get the term frequencies\n",
    "all_genres = nltk.FreqDist(all_genres)\n",
    "# Create a DataFrame for plotting\n",
    "all_genres_df = pd.DataFrame({'Genre': list(all_genres.keys()), \n",
    "                              'Count': list(all_genres.values())})\n",
    "# Before we plot let's normalise the results by the total number of movies\n",
    "all_genres_df['Normalised Count'] = all_genres_df['Count'] / all_genres_df['Count'].sum()"
   ]
  },
  {
   "cell_type": "code",
   "execution_count": 18,
   "metadata": {},
   "outputs": [
    {
     "data": {
      "image/png": "[encoded data removed]",
      "text/plain": [
       "<Figure size 576x504 with 1 Axes>"
      ]
     },
     "metadata": {},
     "output_type": "display_data"
    }
   ],
   "source": [
    "plot_barplot(all_genres_df)"
   ]
  },
  {
   "cell_type": "markdown",
   "metadata": {},
   "source": [
    "The distribution of genres is skewed so when splitting the data for training we will try to stratify the dataset and potentially oversample the minority classes."
   ]
  },
  {
   "cell_type": "markdown",
   "metadata": {},
   "source": [
    "#### Text pre-processing\n",
    "\n",
    "Before we train any models we will need to pre-process our text. <br>\n",
    "We will follow these steps:\n",
    "- Join the movie title to the movie description\n",
    "- Remove whitespace, slashes, non-alphabetic charactes and convert text to lowecase\n",
    "- Lemmatise the words\n",
    "- Remove any stopwords\n",
    "- Join the title and description tokens back into one sentence\n",
    "\n",
    "The above functions are implemented in the \"text_processing.py\" module."
   ]
  },
  {
   "cell_type": "code",
   "execution_count": 19,
   "metadata": {},
   "outputs": [],
   "source": [
    "movie_data['text'] = \\\n",
    "    movie_data[['title', 'description']].apply(\n",
    "        lambda row: tp.transform_text(row['title'], row['description']), axis=1)    "
   ]
  },
  {
   "cell_type": "markdown",
   "metadata": {},
   "source": [
    "# Model training"
   ]
  },
  {
   "cell_type": "markdown",
   "metadata": {},
   "source": [
    "### 1. Problem statement"
   ]
  },
  {
   "cell_type": "markdown",
   "metadata": {},
   "source": [
    "This is a multi-label classification problem as a movie can belong to more than one categories. \n",
    "We are only looking to return the most likely genre to the user. <br>\n",
    "There are many algorithms that are inherently multilabel () and others that can be used with a One-Vs-The-Rest wrapper."
   ]
  },
  {
   "cell_type": "markdown",
   "metadata": {},
   "source": [
    "### 2. Features & Labels"
   ]
  },
  {
   "cell_type": "markdown",
   "metadata": {},
   "source": [
    "First we need to one-hot encode our labels."
   ]
  },
  {
   "cell_type": "code",
   "execution_count": 20,
   "metadata": {},
   "outputs": [],
   "source": [
    "# Labels\n",
    "multilabel_binarizer = MultiLabelBinarizer()  # Create a multi-class binariser\n",
    "y = multilabel_binarizer.fit_transform(movie_data['genres'])  # Fit the binariser to the data and transform\n",
    "\n",
    "# Features\n",
    "X = movie_data['text']\n",
    "\n",
    "# Split data to train and test set\n",
    "X_train, X_test, y_train, y_test = \\\n",
    "    train_test_split(X.values, y, test_size=0.20, random_state=42)"
   ]
  },
  {
   "cell_type": "markdown",
   "metadata": {},
   "source": [
    "### 3. Train Model"
   ]
  },
  {
   "cell_type": "markdown",
   "metadata": {},
   "source": [
    "**Pipeline** <br>\n",
    "We will use the pipeline utility from scikit learn to then be able to apply the same vectoriser to the new data. <br>\n",
    "**Vectorizer** <br>\n",
    "We will use a TfidfVectorizer to convert a collection of raw documents to a matrix of TF-IDF features. <br>\n",
    "**OneVsRest multi-label strategy** <br>\n",
    "The Multi-label algorithm accepts a binary mask over multiple labels.  <br>\n",
    "The result for each prediction will be an array of 0s and 1s marking which class labels apply to each row input sample. <br>\n",
    "**Estimator** <br>\n",
    "There are multiple different estimators that we can use including, Logistic Regression, Naive Bayes, LinearSVC. <br>\n",
    "**Optimisation Metric** <br>\n",
    "We will optimise the models for f1-score since we seek a balance between Precision and Recall *and* there is an uneven class distribution."
   ]
  },
  {
   "cell_type": "code",
   "execution_count": 37,
   "metadata": {},
   "outputs": [],
   "source": [
    "# Instantiate a TF-IDF vecrtorizer\n",
    "tfidf_vectorizer = TfidfVectorizer(max_df=0.6, max_features=10000)\n",
    "\n",
    "# Estimators to experiment\n",
    "lr = LogisticRegression(solver='saga')\n",
    "rf = RandomForestClassifier()  # max_depth=100\n",
    "gb = GradientBoostingClassifier(random_state=0, learning_rate=1.0)  # n_estimators=100, max_depth=1, \n",
    "\n",
    "# List of estimators to try\n",
    "estimators = [lr, rf, gb]\n",
    "\n",
    "# Create a list of pipelines to train\n",
    "pipelines = [Pipeline([('Vectorizer', tfidf_vectorizer),\n",
    "                       ('Classifier', OneVsRestClassifier(estimator))]) for estimator in estimators]\n",
    "\n",
    "# Set of parameters to optimise for\n",
    "parameters_lr = {}\n",
    "parameters_rf = {'Classifier__estimator__n_estimators': [1, 10],\n",
    "                 'Classifier__estimator__max_depth': [10, 20]}\n",
    "parameters_gb = {'Classifier__estimator__n_estimators': [10, 15],\n",
    "                 'Classifier__estimator__max_depth': [1, 3]}\n",
    "\n",
    "# Create a list of parameters to optimise for each estimator\n",
    "parameters_list=[parameters_lr, parameters_rf, parameters_gb]"
   ]
  },
  {
   "cell_type": "markdown",
   "metadata": {},
   "source": [
    "Train classifiers and get the best model:"
   ]
  },
  {
   "cell_type": "code",
   "execution_count": null,
   "metadata": {
    "tags": []
   },
   "outputs": [],
   "source": [
    "best_pipelines = []\n",
    "# Loop through all the pipelines and train\n",
    "for i in range(len(pipelines)):\n",
    "    # We will use 3-fold cross-validation\n",
    "    Grid = GridSearchCV(estimator=pipelines[i], param_grid=parameters_list[i], \n",
    "                        n_jobs=-1, cv=2, verbose=0, scoring='f1_micro').fit(X_train, y_train)\n",
    "    best_pipelines.append(Grid.best_estimator_)"
   ]
  },
  {
   "cell_type": "markdown",
   "metadata": {},
   "source": [
    "We will now train all the estimators with the best parameters and get the one with the best F1-score:"
   ]
  },
  {
   "cell_type": "code",
   "execution_count": null,
   "metadata": {
    "tags": []
   },
   "outputs": [],
   "source": [
    "best_pipeline = None\n",
    "f1 = 0\n",
    "for pipe in best_pipelines:\n",
    "    # Train model\n",
    "    pipe.fit(X_train, y_train)\n",
    "    # Make predictions for validation set\n",
    "    y_pred_test = pipe.predict(X_test)\n",
    "    # If the current model has a better f1 score than the ones so far\n",
    "    if f1_score(y_test, y_pred_test, average=\"micro\") > f1:\n",
    "        best_pipeline = pipe\n",
    "        f1 = f1_score(y_test, y_pred_test, average=\"micro\")\n",
    "    # Evaluate model performance on the test set\n",
    "    print(\"The F1-score for {} is {:.2f}\".format(pipe['Classifier'].estimator,\n",
    "                                                 f1_score(y_test, y_pred_test, average=\"micro\")))"
   ]
  },
  {
   "cell_type": "markdown",
   "metadata": {},
   "source": [
    "The best model is the **One vs Rest with Logistic Regression classifier.**"
   ]
  },
  {
   "cell_type": "markdown",
   "metadata": {},
   "source": [
    "If we wanted to predict as many genres for the movie as accurately as possible, we could optimise the cut-off threshold <br>\n",
    "above which probabilities will be considered:"
   ]
  },
  {
   "cell_type": "code",
   "execution_count": null,
   "metadata": {},
   "outputs": [],
   "source": [
    "# Get the probabilities for each label \n",
    "probabilities = best_pipeline.predict_proba(X_test)\n",
    "\n",
    "# Calculate the metrics for different probability thresholds\n",
    "scores, accuracy = {}, {}\n",
    "for threshold in np.arange(0.0, 1.1, 0.1):\n",
    "    # make predictions for validation set\n",
    "    top_genres = np.where(probabilities > threshold, 1, 0)\n",
    "    # evaluate performance\n",
    "    accuracy[threshold] = accuracy_score(y_test, top_genres)\n",
    "    scores[threshold] = f1_score(y_test, top_genres, average=\"micro\")\n",
    "\n",
    "model_accuracy = pd.DataFrame(data=accuracy.items(), index= accuracy.keys(), columns=['Threshold', 'Accuracy'])\n",
    "model_f1_score = pd.DataFrame(data=scores.items(), index= scores.keys(), columns=['Threshold', 'F1-Score'])\n",
    "pd.merge(model_accuracy, model_f1_score, on='Threshold').set_index('Threshold').plot()"
   ]
  },
  {
   "cell_type": "markdown",
   "metadata": {},
   "source": [
    "### Test model with unseen examples:"
   ]
  },
  {
   "cell_type": "code",
   "execution_count": null,
   "metadata": {},
   "outputs": [],
   "source": [
    "with open(\"examples.json\", \"r\") as read_file:\n",
    "    example_movies = json.load(read_file)"
   ]
  },
  {
   "cell_type": "code",
   "execution_count": null,
   "metadata": {},
   "outputs": [],
   "source": [
    "for title, description in example_movies.items():\n",
    "\n",
    "    processed_data = tp.transform_text(title, description)\n",
    "    probabilities = best_pipeline.predict_proba([processed_data])\n",
    "    probabilities_df = pd.DataFrame(probabilities, index=['Probabilities'], columns=multilabel_binarizer.classes_).T\n",
    "    probabilities_df.sort_values(by='Probabilities', ascending=True)[-4:-1].plot.barh()\n",
    "    plt.title(title)"
   ]
  },
  {
   "cell_type": "markdown",
   "metadata": {},
   "source": [
    "Export model to pickle"
   ]
  },
  {
   "cell_type": "code",
   "execution_count": null,
   "metadata": {},
   "outputs": [],
   "source": [
    "model_filename = \"./movie_classifier_trained_model.pkl\"  \n",
    "\n",
    "with open(model_filename, 'wb') as filename:  \n",
    "    joblib.dump({'pipeline': best_pipeline, 'genres': multilabel_binarizer.classes_}, model_filename)"
   ]
  },
  {
   "cell_type": "markdown",
   "metadata": {},
   "source": [
    "### 4. Train a simple NN as well."
   ]
  },
  {
   "cell_type": "code",
   "execution_count": null,
   "metadata": {},
   "outputs": [],
   "source": [
    "import tensorflow as tf\n",
    "from tensorflow.keras.preprocessing.text import Tokenizer\n",
    "from tensorflow.keras.preprocessing.sequence import pad_sequences"
   ]
  },
  {
   "cell_type": "code",
   "execution_count": 22,
   "metadata": {},
   "outputs": [],
   "source": [
    "# Labels\n",
    "multilabel_binarizer = MultiLabelBinarizer()  # Create a multi-class binariser\n",
    "y = multilabel_binarizer.fit_transform(movie_data['genres'])  # Fit the binariser to the data and transform\n",
    "\n",
    "# Features\n",
    "X = movie_data['text']\n",
    "\n",
    "# Split data to train and test set\n",
    "X_train, X_test, y_train, y_test = \\\n",
    "    train_test_split(X.values, y, test_size=0.20, random_state=42)\n",
    "\n",
    "# Split data to train and validation set\n",
    "X_train, X_val, y_train, y_val = \\\n",
    "    train_test_split(X_train, y_train, test_size=0.10, random_state=42)"
   ]
  },
  {
   "cell_type": "code",
   "execution_count": 23,
   "metadata": {},
   "outputs": [],
   "source": [
    "training_sentences = X_train\n",
    "validation_sentences = X_val"
   ]
  },
  {
   "cell_type": "code",
   "execution_count": 25,
   "metadata": {},
   "outputs": [],
   "source": [
    "# Specify hyper-parameters\n",
    "vocab_size = 10000\n",
    "embedding_size = 16\n",
    "max_length = 120\n",
    "trunc_type = \"post\"\n",
    "oov_tok = \"<OOV>\"\n",
    "\n",
    "# Create a Tokenizer\n",
    "tokenizer = Tokenizer(num_words=vocab_size, oov_token=oov_tok)\n",
    "tokenizer.fit_on_texts(training_sentences)\n",
    "\n",
    "# Create a word index\n",
    "word_index = tokenizer.word_index\n",
    "\n",
    "# Convert sentences to sequences\n",
    "training_sequences = tokenizer.texts_to_sequences(training_sentences)\n",
    "training_padded = pad_sequences(training_sequences, maxlen=max_length, truncating=trunc_type)\n",
    "\n",
    "# Use same tokenizer in test data - a lot more OOVs might be created\n",
    "validation_sentences = tokenizer.texts_to_sequences(validation_sentences)\n",
    "validation_padded = pad_sequences(validation_sentences, maxlen=max_length, truncating=trunc_type)"
   ]
  },
  {
   "cell_type": "code",
   "execution_count": 26,
   "metadata": {},
   "outputs": [
    {
     "name": "stdout",
     "output_type": "stream",
     "text": [
      "? ? ? ? ? ? ? ? ? ? ? ? ? ? ? ? ? ? ? ? ? ? ? ? ? ? ? ? ? ? ? ? ? ? ? ? ? ? ? ? ? ? ? ? ? ? ? ? ? ? ? ? ? ? ? ? ? ? ? ? ? ? time minor every year june nearly athlete high school college chosen amateur baseball draft play minor league inspiring documentary follows life two young player arduous journey launch major league baseball career one face final year <OOV> another player wrestle pressure keeping million dollar first round draft contract intact thrilling emotional journey illuminates power determination whether dream achieved lost\n",
      "time minor every year june nearly athlete high school college chosen amateur baseball draft play minor league inspiring documentary follows life two young player arduous journey launch major league baseball career one face final year tryout another player wrestle pressure keeping million dollar first round draft contract intact thrilling emotional journey illuminates power determination whether dream achieved lost\n"
     ]
    }
   ],
   "source": [
    "# Reverse word index\n",
    "reverse_word_index = dict([(value, key) for key, value in word_index.items()])\n",
    "\n",
    "\n",
    "def decode_review(text):\n",
    "    return \" \".join([reverse_word_index.get(i, \"?\") for i in text])\n",
    "\n",
    "\n",
    "# Examine an example\n",
    "print(decode_review(training_padded[1]))\n",
    "print(training_sentences[1])"
   ]
  },
  {
   "cell_type": "code",
   "execution_count": 27,
   "metadata": {},
   "outputs": [],
   "source": [
    "# Define a Sequential Neural Network\n",
    "model = tf.keras.Sequential([\n",
    "    tf.keras.layers.Embedding(vocab_size, embedding_size, input_length=max_length),\n",
    "    tf.keras.layers.GlobalAveragePooling1D(),  # Averages across the vector to flatten it out\n",
    "    tf.keras.layers.Dense(256, activation='relu'),\n",
    "    tf.keras.layers.Dropout(0.5),\n",
    "    tf.keras.layers.Dense(50, activation='relu'),\n",
    "    tf.keras.layers.Dropout(0.2),\n",
    "    tf.keras.layers.Dense(20, activation='sigmoid')])"
   ]
  },
  {
   "cell_type": "code",
   "execution_count": 28,
   "metadata": {},
   "outputs": [
    {
     "name": "stdout",
     "output_type": "stream",
     "text": [
      "Model: \"sequential\"\n",
      "_________________________________________________________________\n",
      "Layer (type)                 Output Shape              Param #   \n",
      "=================================================================\n",
      "embedding (Embedding)        (None, 120, 16)           160000    \n",
      "_________________________________________________________________\n",
      "global_average_pooling1d (Gl (None, 16)                0         \n",
      "_________________________________________________________________\n",
      "dense (Dense)                (None, 256)               4352      \n",
      "_________________________________________________________________\n",
      "dropout (Dropout)            (None, 256)               0         \n",
      "_________________________________________________________________\n",
      "dense_1 (Dense)              (None, 50)                12850     \n",
      "_________________________________________________________________\n",
      "dropout_1 (Dropout)          (None, 50)                0         \n",
      "_________________________________________________________________\n",
      "dense_2 (Dense)              (None, 20)                1020      \n",
      "=================================================================\n",
      "Total params: 178,222\n",
      "Trainable params: 178,222\n",
      "Non-trainable params: 0\n",
      "_________________________________________________________________\n"
     ]
    }
   ],
   "source": [
    "model.compile(loss='categorical_crossentropy', optimizer='adam', metrics=['accuracy'])\n",
    "model.summary()"
   ]
  },
  {
   "cell_type": "code",
   "execution_count": 29,
   "metadata": {},
   "outputs": [
    {
     "data": {
      "text/plain": [
       "(26802, 120)"
      ]
     },
     "execution_count": 29,
     "metadata": {},
     "output_type": "execute_result"
    }
   ],
   "source": [
    "training_padded.shape"
   ]
  },
  {
   "cell_type": "code",
   "execution_count": 31,
   "metadata": {},
   "outputs": [
    {
     "name": "stdout",
     "output_type": "stream",
     "text": [
      "Epoch 1/50\n",
      "838/838 [==============================] - 2s 3ms/step - loss: 5.5847 - accuracy: 0.2574 - val_loss: 5.3891 - val_accuracy: 0.2726\n",
      "Epoch 2/50\n",
      "838/838 [==============================] - 2s 2ms/step - loss: 5.2752 - accuracy: 0.2737 - val_loss: 5.2417 - val_accuracy: 0.2991\n",
      "Epoch 3/50\n",
      "838/838 [==============================] - 2s 2ms/step - loss: 5.1599 - accuracy: 0.2902 - val_loss: 5.1904 - val_accuracy: 0.3068\n",
      "Epoch 4/50\n",
      "838/838 [==============================] - 2s 2ms/step - loss: 4.9287 - accuracy: 0.3061 - val_loss: 4.9279 - val_accuracy: 0.3229\n",
      "Epoch 5/50\n",
      "838/838 [==============================] - 2s 3ms/step - loss: 4.7250 - accuracy: 0.3069 - val_loss: 4.8685 - val_accuracy: 0.3253\n",
      "Epoch 6/50\n",
      "838/838 [==============================] - 2s 2ms/step - loss: 4.6238 - accuracy: 0.3076 - val_loss: 4.8870 - val_accuracy: 0.3186\n",
      "Epoch 7/50\n",
      "838/838 [==============================] - 2s 2ms/step - loss: 4.5483 - accuracy: 0.3102 - val_loss: 4.8837 - val_accuracy: 0.3209\n",
      "Epoch 8/50\n",
      "838/838 [==============================] - 2s 2ms/step - loss: 4.4699 - accuracy: 0.3175 - val_loss: 4.8822 - val_accuracy: 0.3162\n",
      "Epoch 9/50\n",
      "838/838 [==============================] - 2s 3ms/step - loss: 4.3825 - accuracy: 0.3265 - val_loss: 4.8634 - val_accuracy: 0.3310\n",
      "Epoch 10/50\n",
      "838/838 [==============================] - 2s 2ms/step - loss: 4.3011 - accuracy: 0.3462 - val_loss: 4.8436 - val_accuracy: 0.3494\n",
      "Epoch 11/50\n",
      "838/838 [==============================] - 2s 2ms/step - loss: 4.2271 - accuracy: 0.3636 - val_loss: 4.8615 - val_accuracy: 0.3494\n",
      "Epoch 12/50\n",
      "838/838 [==============================] - 2s 3ms/step - loss: 4.1667 - accuracy: 0.3787 - val_loss: 4.8726 - val_accuracy: 0.3464\n",
      "Epoch 13/50\n",
      "838/838 [==============================] - 2s 2ms/step - loss: 4.1081 - accuracy: 0.3906 - val_loss: 4.8682 - val_accuracy: 0.3562\n",
      "Epoch 14/50\n",
      "838/838 [==============================] - 2s 3ms/step - loss: 4.0464 - accuracy: 0.4086 - val_loss: 4.8759 - val_accuracy: 0.3716\n",
      "Epoch 15/50\n",
      "838/838 [==============================] - 2s 3ms/step - loss: 3.9768 - accuracy: 0.4294 - val_loss: 4.8629 - val_accuracy: 0.3917\n",
      "Epoch 16/50\n",
      "838/838 [==============================] - 2s 2ms/step - loss: 3.9290 - accuracy: 0.4537 - val_loss: 4.9507 - val_accuracy: 0.3988\n",
      "Epoch 17/50\n",
      "838/838 [==============================] - 2s 2ms/step - loss: 3.8842 - accuracy: 0.4678 - val_loss: 4.9500 - val_accuracy: 0.4079\n",
      "Epoch 18/50\n",
      "838/838 [==============================] - 2s 3ms/step - loss: 3.8362 - accuracy: 0.4848 - val_loss: 4.9138 - val_accuracy: 0.4196\n",
      "Epoch 19/50\n",
      "838/838 [==============================] - 2s 3ms/step - loss: 3.7988 - accuracy: 0.4988 - val_loss: 4.9924 - val_accuracy: 0.4243\n",
      "Epoch 20/50\n",
      "838/838 [==============================] - 2s 3ms/step - loss: 3.7635 - accuracy: 0.5134 - val_loss: 5.0085 - val_accuracy: 0.4220\n",
      "Epoch 21/50\n",
      "838/838 [==============================] - 2s 2ms/step - loss: 3.7374 - accuracy: 0.5194 - val_loss: 5.0844 - val_accuracy: 0.4277\n",
      "Epoch 22/50\n",
      "838/838 [==============================] - 2s 2ms/step - loss: 3.7048 - accuracy: 0.5276 - val_loss: 5.0853 - val_accuracy: 0.4384\n",
      "Epoch 23/50\n",
      "838/838 [==============================] - 2s 3ms/step - loss: 3.6760 - accuracy: 0.5345 - val_loss: 5.2375 - val_accuracy: 0.4293\n",
      "Epoch 24/50\n",
      "838/838 [==============================] - 2s 2ms/step - loss: 3.6462 - accuracy: 0.5356 - val_loss: 5.2007 - val_accuracy: 0.4387\n",
      "Epoch 25/50\n",
      "838/838 [==============================] - 2s 3ms/step - loss: 3.6197 - accuracy: 0.5451 - val_loss: 5.2920 - val_accuracy: 0.4381\n",
      "Epoch 26/50\n",
      "838/838 [==============================] - 2s 3ms/step - loss: 3.5918 - accuracy: 0.5519 - val_loss: 5.3365 - val_accuracy: 0.4350\n",
      "Epoch 27/50\n",
      "838/838 [==============================] - 2s 3ms/step - loss: 3.5656 - accuracy: 0.5537 - val_loss: 5.5464 - val_accuracy: 0.4354\n",
      "Epoch 28/50\n",
      "838/838 [==============================] - 2s 2ms/step - loss: 3.5427 - accuracy: 0.5613 - val_loss: 5.5568 - val_accuracy: 0.4317\n",
      "Epoch 29/50\n",
      "838/838 [==============================] - 2s 2ms/step - loss: 3.5218 - accuracy: 0.5601 - val_loss: 5.5806 - val_accuracy: 0.4320\n",
      "Epoch 30/50\n",
      "838/838 [==============================] - 2s 2ms/step - loss: 3.4943 - accuracy: 0.5606 - val_loss: 5.5265 - val_accuracy: 0.4297\n",
      "Epoch 31/50\n",
      "838/838 [==============================] - 2s 2ms/step - loss: 3.4741 - accuracy: 0.5653 - val_loss: 5.8017 - val_accuracy: 0.4411\n",
      "Epoch 32/50\n",
      "838/838 [==============================] - 2s 2ms/step - loss: 3.4498 - accuracy: 0.5663 - val_loss: 5.8793 - val_accuracy: 0.4357\n",
      "Epoch 33/50\n",
      "838/838 [==============================] - 2s 2ms/step - loss: 3.4241 - accuracy: 0.5705 - val_loss: 5.8083 - val_accuracy: 0.4287\n",
      "Epoch 34/50\n",
      "838/838 [==============================] - 2s 2ms/step - loss: 3.4000 - accuracy: 0.5708 - val_loss: 5.9390 - val_accuracy: 0.4256\n",
      "Epoch 35/50\n",
      "838/838 [==============================] - 2s 3ms/step - loss: 3.3805 - accuracy: 0.5702 - val_loss: 5.8581 - val_accuracy: 0.4183\n",
      "Epoch 36/50\n",
      "838/838 [==============================] - 2s 2ms/step - loss: 3.3506 - accuracy: 0.5760 - val_loss: 6.0301 - val_accuracy: 0.4213\n",
      "Epoch 37/50\n",
      "838/838 [==============================] - 2s 2ms/step - loss: 3.3340 - accuracy: 0.5811 - val_loss: 6.1685 - val_accuracy: 0.4230\n",
      "Epoch 38/50\n",
      "838/838 [==============================] - 2s 2ms/step - loss: 3.3098 - accuracy: 0.5761 - val_loss: 6.3091 - val_accuracy: 0.4196\n",
      "Epoch 39/50\n",
      "838/838 [==============================] - 2s 3ms/step - loss: 3.2897 - accuracy: 0.5759 - val_loss: 6.1053 - val_accuracy: 0.4337\n",
      "Epoch 40/50\n",
      "838/838 [==============================] - 2s 2ms/step - loss: 3.2710 - accuracy: 0.5816 - val_loss: 6.3445 - val_accuracy: 0.4367\n",
      "Epoch 41/50\n",
      "838/838 [==============================] - 2s 2ms/step - loss: 3.2432 - accuracy: 0.5826 - val_loss: 6.3197 - val_accuracy: 0.4230\n",
      "Epoch 42/50\n",
      "838/838 [==============================] - 2s 2ms/step - loss: 3.2232 - accuracy: 0.5837 - val_loss: 6.3111 - val_accuracy: 0.4139\n",
      "Epoch 43/50\n",
      "838/838 [==============================] - 2s 2ms/step - loss: 3.2060 - accuracy: 0.5827 - val_loss: 6.4644 - val_accuracy: 0.4250\n",
      "Epoch 44/50\n",
      "838/838 [==============================] - 2s 2ms/step - loss: 3.1834 - accuracy: 0.5831 - val_loss: 6.5561 - val_accuracy: 0.4199\n",
      "Epoch 45/50\n",
      "838/838 [==============================] - 2s 3ms/step - loss: 3.1751 - accuracy: 0.5805 - val_loss: 6.4464 - val_accuracy: 0.4216\n",
      "Epoch 46/50\n",
      "838/838 [==============================] - 2s 2ms/step - loss: 3.1513 - accuracy: 0.5867 - val_loss: 6.7015 - val_accuracy: 0.4189\n",
      "Epoch 47/50\n",
      "838/838 [==============================] - 2s 3ms/step - loss: 3.1358 - accuracy: 0.5855 - val_loss: 6.8418 - val_accuracy: 0.4136\n",
      "Epoch 48/50\n",
      "838/838 [==============================] - 2s 2ms/step - loss: 3.1183 - accuracy: 0.5834 - val_loss: 6.8567 - val_accuracy: 0.4152\n",
      "Epoch 49/50\n",
      "838/838 [==============================] - 2s 3ms/step - loss: 3.1042 - accuracy: 0.5840 - val_loss: 6.8065 - val_accuracy: 0.4223\n",
      "Epoch 50/50\n",
      "838/838 [==============================] - 2s 3ms/step - loss: 3.0812 - accuracy: 0.5870 - val_loss: 7.0953 - val_accuracy: 0.4129\n"
     ]
    }
   ],
   "source": [
    "# Fit model\n",
    "num_epochs = 20\n",
    "history = model.fit(training_padded, y_train, epochs=num_epochs,\n",
    "          validation_data=(validation_padded, y_val))"
   ]
  },
  {
   "cell_type": "code",
   "execution_count": 36,
   "metadata": {},
   "outputs": [
    {
     "data": {
      "image/png": "[encoded data removed]",
      "text/plain": [
       "<Figure size 432x288 with 1 Axes>"
      ]
     },
     "metadata": {},
     "output_type": "display_data"
    },
    {
     "data": {
      "image/png": "[encoded data removed]",
      "text/plain": [
       "<Figure size 432x288 with 1 Axes>"
      ]
     },
     "metadata": {},
     "output_type": "display_data"
    }
   ],
   "source": [
    "def plot_graphs(history, string):\n",
    "    plt.plot(history.history[string])\n",
    "    plt.plot(history.history[\"val_\"+string])\n",
    "    plt.xlabel(\"Epochs\")\n",
    "    plt.ylabel(string)\n",
    "    plt.legend([string, \"val_\"+string])\n",
    "    plt.show()\n",
    "\n",
    "plot_graphs(history, \"accuracy\")\n",
    "plot_graphs(history, \"loss\")"
   ]
  },
  {
   "cell_type": "code",
   "execution_count": 33,
   "metadata": {},
   "outputs": [
    {
     "data": {
      "text/plain": [
       "array([[0, 0, 0, 1, 0, 0, 1, 0, 1, 0, 0, 1, 0, 0, 0, 0, 0, 0, 0, 0]])"
      ]
     },
     "execution_count": 33,
     "metadata": {},
     "output_type": "execute_result"
    }
   ],
   "source": [
    "new_sentence = [\"A dynamic young entrepreneur finds herself locked in a hotel room with the corpse of her dead lover. She hires a prestigious lawyer to defend her and they work together to figure out what actually happened.\"]\n",
    "\n",
    "test_sentence = tokenizer.texts_to_sequences(new_sentence)\n",
    "padded_sentence = pad_sequences(test_sentence, maxlen=max_length, truncating=trunc_type)\n",
    "probabilities = model.predict(padded_sentence)\n",
    "probabilities\n",
    "top_genres = np.where(probabilities > 0.1, 1, 0)\n",
    "top_genres"
   ]
  },
  {
   "cell_type": "code",
   "execution_count": 34,
   "metadata": {},
   "outputs": [],
   "source": [
    "test_sentence = tokenizer.texts_to_sequences(X_test)\n",
    "padded_sentence = pad_sequences(test_sentence, maxlen=max_length, truncating=trunc_type)\n",
    "probabilities = model.predict(padded_sentence)\n",
    "probabilities\n",
    "\n",
    "# make predictions for validation set\n",
    "top_genres = np.where(probabilities > 0.1, 1, 0)\n",
    "# evaluate performance\n",
    "accuracy = accuracy_score(y_test, top_genres)\n",
    "scores = f1_score(y_test, top_genres, average=\"micro\")"
   ]
  },
  {
   "cell_type": "code",
   "execution_count": 35,
   "metadata": {},
   "outputs": [
    {
     "ename": "NameError",
     "evalue": "name 'example_movies' is not defined",
     "output_type": "error",
     "traceback": [
      "\u001b[1;31m---------------------------------------------------------------------------\u001b[0m",
      "\u001b[1;31mNameError\u001b[0m                                 Traceback (most recent call last)",
      "\u001b[1;32m<ipython-input-35-30bb31fdb92c>\u001b[0m in \u001b[0;36m<module>\u001b[1;34m\u001b[0m\n\u001b[1;32m----> 1\u001b[1;33m \u001b[1;32mfor\u001b[0m \u001b[0mtitle\u001b[0m\u001b[1;33m,\u001b[0m \u001b[0mdescription\u001b[0m \u001b[1;32min\u001b[0m \u001b[0mexample_movies\u001b[0m\u001b[1;33m.\u001b[0m\u001b[0mitems\u001b[0m\u001b[1;33m(\u001b[0m\u001b[1;33m)\u001b[0m\u001b[1;33m:\u001b[0m\u001b[1;33m\u001b[0m\u001b[1;33m\u001b[0m\u001b[0m\n\u001b[0m\u001b[0;32m      2\u001b[0m \u001b[1;33m\u001b[0m\u001b[0m\n\u001b[0;32m      3\u001b[0m     \u001b[0mprocessed_data\u001b[0m \u001b[1;33m=\u001b[0m \u001b[0mtp\u001b[0m\u001b[1;33m.\u001b[0m\u001b[0mtransform_text\u001b[0m\u001b[1;33m(\u001b[0m\u001b[0mtitle\u001b[0m\u001b[1;33m,\u001b[0m \u001b[0mdescription\u001b[0m\u001b[1;33m)\u001b[0m\u001b[1;33m\u001b[0m\u001b[1;33m\u001b[0m\u001b[0m\n\u001b[0;32m      4\u001b[0m     \u001b[0mtest_sentence\u001b[0m \u001b[1;33m=\u001b[0m \u001b[0mtokenizer\u001b[0m\u001b[1;33m.\u001b[0m\u001b[0mtexts_to_sequences\u001b[0m\u001b[1;33m(\u001b[0m\u001b[1;33m[\u001b[0m\u001b[0mprocessed_data\u001b[0m\u001b[1;33m]\u001b[0m\u001b[1;33m)\u001b[0m\u001b[1;33m\u001b[0m\u001b[1;33m\u001b[0m\u001b[0m\n\u001b[0;32m      5\u001b[0m     \u001b[0mpadded_sentence\u001b[0m \u001b[1;33m=\u001b[0m \u001b[0mpad_sequences\u001b[0m\u001b[1;33m(\u001b[0m\u001b[0mtest_sentence\u001b[0m\u001b[1;33m,\u001b[0m \u001b[0mmaxlen\u001b[0m\u001b[1;33m=\u001b[0m\u001b[0mmax_length\u001b[0m\u001b[1;33m,\u001b[0m \u001b[0mtruncating\u001b[0m\u001b[1;33m=\u001b[0m\u001b[0mtrunc_type\u001b[0m\u001b[1;33m)\u001b[0m\u001b[1;33m\u001b[0m\u001b[1;33m\u001b[0m\u001b[0m\n",
      "\u001b[1;31mNameError\u001b[0m: name 'example_movies' is not defined"
     ]
    }
   ],
   "source": [
    "for title, description in example_movies.items():\n",
    "\n",
    "    processed_data = tp.transform_text(title, description)\n",
    "    test_sentence = tokenizer.texts_to_sequences([processed_data])\n",
    "    padded_sentence = pad_sequences(test_sentence, maxlen=max_length, truncating=trunc_type)\n",
    "\n",
    "    probabilities = model.predict(padded_sentence)\n",
    "    probabilities_df = pd.DataFrame(probabilities, index=['Probabilities'], columns=multilabel_binarizer.classes_).T\n",
    "    probabilities_df.sort_values(by='Probabilities', ascending=True)[-4:-1].plot.barh()\n",
    "    plt.title(title)"
   ]
  },
  {
   "cell_type": "code",
   "execution_count": null,
   "metadata": {},
   "outputs": [],
   "source": []
  }
 ],
 "metadata": {
  "kernelspec": {
   "display_name": "Python 3",
   "language": "python",
   "name": "python3"
  },
  "language_info": {
   "codemirror_mode": {
    "name": "ipython",
    "version": 3
   },
   "file_extension": ".py",
   "mimetype": "text/x-python",
   "name": "python",
   "nbconvert_exporter": "python",
   "pygments_lexer": "ipython3",
   "version": "3.8.5"
  }
 },
 "nbformat": 4,
 "nbformat_minor": 5
}
